{
 "cells": [
  {
   "cell_type": "code",
   "execution_count": null,
   "outputs": [],
   "source": [
    "import networkx as nx\n",
    "print(nx.__version__)\n",
    "import matplotlib.pyplot as plt\n",
    "from tensorflow.keras.datasets import mnist\n",
    "%matplotlib inline\n",
    "\n",
    "(X_train, y_train), (X_test, y_test) = mnist.load_data()\n",
    "X_train, X_test = X_train / 255., X_test / 255.\n",
    "plt.imshow(X_train[1298])"
   ],
   "metadata": {
    "collapsed": false,
    "pycharm": {
     "name": "#%%\n",
     "is_executing": true
    }
   }
  },
  {
   "cell_type": "code",
   "execution_count": 2,
   "metadata": {
    "collapsed": true,
    "pycharm": {
     "name": "#%%\n"
    }
   },
   "outputs": [],
   "source": [
    "import numpy as np\n",
    "from skimage import color, segmentation\n",
    "\n",
    "NP_TORCH_FLOAT_DTYPE = np.float32\n",
    "NP_TORCH_LONG_DTYPE = np.int64\n",
    "\n",
    "NUM_FEATURES = 5\n",
    "NUM_CLASSES = 10\n",
    "\n",
    "def _preprocess(image):\n",
    "    if len(image.shape) == 2 or image.shape[2] == 1:\n",
    "        return color.gray2rgb(\n",
    "            np.reshape(image, (image.shape[0], image.shape[1])))\n",
    "    else:\n",
    "        return image\n",
    "\n",
    "def get_graph_from_image(image, desired_nodes=75):\n",
    "    # load the image and convert it to a floating point data type\n",
    "    image = _preprocess(image)\n",
    "    segments = segmentation.slic(image, desired_nodes, slic_zero = True)\n",
    "    asegments = np.array(segments)\n",
    "\n",
    "    num_nodes = np.max(asegments)\n",
    "    nodes = {\n",
    "        node: {\n",
    "            \"rgb_list\": [],\n",
    "            \"pos_list\": []\n",
    "        } for node in range(num_nodes+1)\n",
    "    }\n",
    "\n",
    "    height = image.shape[0]\n",
    "    width = image.shape[1]\n",
    "    for y in range(height):\n",
    "        for x in range(width):\n",
    "            node = asegments[y,x]\n",
    "            rgb = image[y,x,:]\n",
    "            pos = np.array([float(x)/width,float(y)/height])\n",
    "            nodes[node][\"rgb_list\"].append(rgb)\n",
    "            nodes[node][\"pos_list\"].append(pos)\n",
    "\n",
    "    G = nx.Graph()\n",
    "    for node in nodes:\n",
    "        try:\n",
    "            nodes[node][\"rgb_list\"] = np.stack(nodes[node][\"rgb_list\"])\n",
    "            nodes[node][\"pos_list\"] = np.stack(nodes[node][\"pos_list\"])\n",
    "            rgb_mean = np.mean(nodes[node][\"rgb_list\"], axis=0)\n",
    "            pos_mean = np.mean(nodes[node][\"pos_list\"], axis=0)\n",
    "            features = np.concatenate(\n",
    "                [\n",
    "                    np.reshape(rgb_mean, -1),\n",
    "                    np.reshape(pos_mean, -1),\n",
    "                ]\n",
    "            )\n",
    "            G.add_node(node, features = list(features))\n",
    "        except:\n",
    "            pass\n",
    "\n",
    "\n",
    "    # From https://stackoverflow.com/questions/26237580/skimage-slic-getting-neighbouring-segments\n",
    "    segments_ids = np.unique(segments)\n",
    "\n",
    "    # centers\n",
    "    centers = np.array([np.mean(np.nonzero(segments==i),axis=1) for i in segments_ids])\n",
    "\n",
    "    vs_right = np.vstack([segments[:,:-1].ravel(), segments[:,1:].ravel()])\n",
    "    vs_below = np.vstack([segments[:-1,:].ravel(), segments[1:,:].ravel()])\n",
    "    bneighbors = np.unique(np.hstack([vs_right, vs_below]), axis=1)\n",
    "\n",
    "    # Adjacency loops\n",
    "    for i in range(bneighbors.shape[1]):\n",
    "        if bneighbors[0,i] != bneighbors[1,i]:\n",
    "            G.add_edge(bneighbors[0,i],bneighbors[1,i])\n",
    "\n",
    "    # Self loops\n",
    "    for node in nodes:\n",
    "        G.add_edge(node,node)\n",
    "\n",
    "    n = G.number_of_nodes()\n",
    "    m = G.number_of_edges()\n",
    "    h = np.zeros([n,NUM_FEATURES]).astype(NP_TORCH_FLOAT_DTYPE)\n",
    "    edges = np.zeros([2*m,2]).astype(NP_TORCH_LONG_DTYPE)\n",
    "    # print(G.edges())\n",
    "    for e,(s,t) in enumerate(G.edges()):\n",
    "        edges[e,0] = s\n",
    "        edges[e,1] = t\n",
    "\n",
    "        edges[m+e,0] = t\n",
    "        edges[m+e,1] = s\n",
    "\n",
    "    for i in G.nodes():\n",
    "        try:\n",
    "            h[i,:] = list(G.nodes(data='features'))[i][1]['features'][:NUM_FEATURES]\n",
    "        except:\n",
    "            pass\n",
    "    #end for\n",
    "    del G\n",
    "    return h[:, 0:], edges"
   ]
  },
  {
   "cell_type": "code",
   "execution_count": 3,
   "outputs": [
    {
     "data": {
      "text/plain": "array([[0.        , 0.        , 0.        , 0.03571429, 0.03571429],\n       [0.        , 0.        , 0.        , 0.14285715, 0.03571429],\n       [0.        , 0.        , 0.        , 0.25      , 0.03571429],\n       [0.        , 0.        , 0.        , 0.35714287, 0.03571429],\n       [0.        , 0.        , 0.        , 0.4642857 , 0.03571429],\n       [0.        , 0.        , 0.        , 0.5714286 , 0.03571429],\n       [0.        , 0.        , 0.        , 0.6785714 , 0.03571429],\n       [0.        , 0.        , 0.        , 0.78571427, 0.03571429],\n       [0.        , 0.        , 0.        , 0.91071427, 0.03571429],\n       [0.        , 0.        , 0.        , 0.03571429, 0.14285715],\n       [0.        , 0.        , 0.        , 0.14285715, 0.14285715],\n       [0.        , 0.        , 0.        , 0.25      , 0.14285715],\n       [0.        , 0.        , 0.        , 0.35714287, 0.14285715],\n       [0.00490196, 0.00490196, 0.00490196, 0.45982143, 0.13839285],\n       [0.18518518, 0.18518518, 0.18518518, 0.5595238 , 0.14285715],\n       [0.04705882, 0.04705882, 0.04705882, 0.68303573, 0.13839285],\n       [0.        , 0.        , 0.        , 0.78571427, 0.14285715],\n       [0.        , 0.        , 0.        , 0.91071427, 0.14285715],\n       [0.99302834, 0.99302834, 0.99302834, 0.5793651 , 0.23809524],\n       [0.8771242 , 0.8771242 , 0.8771242 , 0.6875    , 0.26190478],\n       [0.        , 0.        , 0.        , 0.03571429, 0.25      ],\n       [0.        , 0.        , 0.        , 0.14285715, 0.25      ],\n       [0.        , 0.        , 0.        , 0.25      , 0.25      ],\n       [0.06352941, 0.06352941, 0.06352941, 0.35714287, 0.25      ],\n       [0.84670234, 0.84670234, 0.84670234, 0.4642857 , 0.26623377],\n       [0.14640523, 0.14640523, 0.14640523, 0.78174603, 0.24206349],\n       [0.        , 0.        , 0.        , 0.91071427, 0.25      ],\n       [0.        , 0.        , 0.        , 0.03571429, 0.35714287],\n       [0.        , 0.        , 0.        , 0.14285715, 0.35714287],\n       [0.        , 0.        , 0.        , 0.25      , 0.35714287],\n       [0.7198257 , 0.7198257 , 0.7198257 , 0.35714287, 0.3690476 ],\n       [0.04411765, 0.04411765, 0.04411765, 0.46875   , 0.36160713],\n       [0.00855615, 0.00855615, 0.00855615, 0.5681818 , 0.37987012],\n       [0.08540305, 0.08540305, 0.08540305, 0.6666667 , 0.35714287],\n       [0.        , 0.        , 0.        , 0.7901786 , 0.36160713],\n       [0.        , 0.        , 0.        , 0.91071427, 0.35714287],\n       [0.        , 0.        , 0.        , 0.03571429, 0.4642857 ],\n       [0.        , 0.        , 0.        , 0.14285715, 0.4642857 ],\n       [0.00261438, 0.00261438, 0.00261438, 0.25      , 0.4642857 ],\n       [0.8426471 , 0.8426471 , 0.8426471 , 0.36160713, 0.46875   ],\n       [0.11428571, 0.11428571, 0.11428571, 0.45918366, 0.45408162],\n       [0.04052288, 0.04052288, 0.04052288, 0.67460316, 0.46031746],\n       [0.        , 0.        , 0.        , 0.78571427, 0.4642857 ],\n       [0.        , 0.        , 0.        , 0.91071427, 0.4642857 ],\n       [0.8519608 , 0.8519608 , 0.8519608 , 0.5535714 , 0.5       ],\n       [0.81215686, 0.81215686, 0.81215686, 0.44642857, 0.55714285],\n       [0.80784315, 0.80784315, 0.80784315, 0.64285713, 0.5642857 ],\n       [0.        , 0.        , 0.        , 0.03571429, 0.5714286 ],\n       [0.        , 0.        , 0.        , 0.14285715, 0.5714286 ],\n       [0.03093682, 0.03093682, 0.03093682, 0.25      , 0.5714286 ],\n       [0.97759104, 0.97759104, 0.97759104, 0.3469388 , 0.5714286 ],\n       [0.        , 0.        , 0.        , 0.76785713, 0.5714286 ],\n       [0.        , 0.        , 0.        , 0.91071427, 0.5714286 ],\n       [0.02313725, 0.02313725, 0.02313725, 0.5321429 , 0.61785716],\n       [0.        , 0.        , 0.        , 0.03571429, 0.6785714 ],\n       [0.        , 0.        , 0.        , 0.14285715, 0.6785714 ],\n       [0.00784314, 0.00784314, 0.00784314, 0.25      , 0.6785714 ],\n       [0.01254902, 0.01254902, 0.01254902, 0.3607143 , 0.6857143 ],\n       [0.        , 0.        , 0.        , 0.45714286, 0.6964286 ],\n       [0.872549  , 0.872549  , 0.872549  , 0.61160713, 0.68303573],\n       [0.03202615, 0.03202615, 0.03202615, 0.6964286 , 0.6785714 ],\n       [0.        , 0.        , 0.        , 0.78571427, 0.6785714 ],\n       [0.        , 0.        , 0.        , 0.91071427, 0.6785714 ],\n       [0.66056645, 0.66056645, 0.66056645, 0.5515873 , 0.76984125],\n       [0.        , 0.        , 0.        , 0.03571429, 0.78571427],\n       [0.        , 0.        , 0.        , 0.15      , 0.7892857 ],\n       [0.6862745 , 0.6862745 , 0.6862745 , 0.2544643 , 0.78125   ],\n       [0.7538126 , 0.7538126 , 0.7538126 , 0.35714287, 0.79761904],\n       [0.00320856, 0.00320856, 0.00320856, 0.66558444, 0.78896105],\n       [0.        , 0.        , 0.        , 0.78571427, 0.78571427],\n       [0.        , 0.        , 0.        , 0.91071427, 0.78571427],\n       [0.7690632 , 0.7690632 , 0.7690632 , 0.4642857 , 0.8214286 ],\n       [0.        , 0.        , 0.        , 0.03571429, 0.91071427],\n       [0.        , 0.        , 0.        , 0.14285715, 0.91071427],\n       [0.        , 0.        , 0.        , 0.25      , 0.91071427],\n       [0.01675579, 0.01675579, 0.01675579, 0.3538961 , 0.91558444],\n       [0.00653595, 0.00653595, 0.00653595, 0.5714286 , 0.91071427],\n       [0.        , 0.        , 0.        , 0.6785714 , 0.91071427],\n       [0.        , 0.        , 0.        , 0.78571427, 0.91071427],\n       [0.        , 0.        , 0.        , 0.91071427, 0.91071427],\n       [0.        , 0.        , 0.        , 0.4642857 , 0.9285714 ],\n       [0.        , 0.        , 0.        , 0.        , 0.        ]],\n      dtype=float32)"
     },
     "execution_count": 3,
     "metadata": {},
     "output_type": "execute_result"
    }
   ],
   "source": [
    "h, e = get_graph_from_image(X_train[1298])\n",
    "h"
   ],
   "metadata": {
    "collapsed": false,
    "pycharm": {
     "name": "#%%\n"
    }
   }
  },
  {
   "cell_type": "code",
   "execution_count": 5,
   "outputs": [
    {
     "name": "stdout",
     "output_type": "stream",
     "text": [
      "82\n",
      "(82, 5)\n",
      "500\n",
      "(500, 2)\n",
      "(2, 500)\n",
      "torch.Size([2, 500])\n",
      "torch.Size([82, 5])\n"
     ]
    }
   ],
   "source": [
    "import torch\n",
    "print(len(h))\n",
    "print(h.shape)\n",
    "print(len(e))\n",
    "print(e.shape)\n",
    "print(e.reshape(2, -1).shape)\n",
    "print(torch.tensor(e).t().to(torch.long).view(2, -1).shape)\n",
    "print(torch.tensor(h, dtype=torch.float).shape)"
   ],
   "metadata": {
    "collapsed": false,
    "pycharm": {
     "name": "#%%\n"
    }
   }
  },
  {
   "cell_type": "code",
   "execution_count": 6,
   "outputs": [],
   "source": [
    "from matplotlib.lines import Line2D\n",
    "\n",
    "def plot_graph_from_image(image,desired_nodes=75,save_in=None):\n",
    "    image = _preprocess(image)\n",
    "    segments = segmentation.slic(image, slic_zero = True, compactness=10, max_num_iter=10, sigma=0)\n",
    "\n",
    "    # show the output of SLIC\n",
    "    fig = plt.figure(\"Superpixels\")\n",
    "    ax = fig.add_subplot(1, 1, 1)\n",
    "    #ax.imshow(mark_boundaries(image, segments), cmap=\"gray\")\n",
    "    ax.imshow(image)#, cmap=\"gray\")\n",
    "    plt.axis(\"off\")\n",
    "\n",
    "    asegments = np.array(segments)\n",
    "\n",
    "    # From https://stackoverflow.com/questions/26237580/skimage-slic-getting-neighbouring-segments\n",
    "\n",
    "    segments_ids = np.unique(segments)\n",
    "\n",
    "    # centers\n",
    "    centers = np.array([np.mean(np.nonzero(segments==i),axis=1) for i in segments_ids])\n",
    "\n",
    "    vs_right = np.vstack([segments[:,:-1].ravel(), segments[:,1:].ravel()])\n",
    "    vs_below = np.vstack([segments[:-1,:].ravel(), segments[1:,:].ravel()])\n",
    "    bneighbors = np.unique(np.hstack([vs_right, vs_below]), axis=1)\n",
    "\n",
    "    plt.scatter(centers[:,1],centers[:,0], c='y')\n",
    "\n",
    "    for i in range(bneighbors.shape[1]):\n",
    "        try:\n",
    "            y0,x0 = centers[bneighbors[0,i]]\n",
    "            y1,x1 = centers[bneighbors[1,i]]\n",
    "\n",
    "            l = Line2D([x0,x1],[y0,y1], c=\"w\", alpha=0.5)\n",
    "            ax.add_line(l)\n",
    "        except:\n",
    "            pass\n",
    "\n",
    "    # show the plots\n",
    "    if save_in is None:\n",
    "        plt.show()\n",
    "    else:\n",
    "        plt.savefig(save_in,bbox_inches=\"tight\")\n",
    "    plt.close()"
   ],
   "metadata": {
    "collapsed": false,
    "pycharm": {
     "name": "#%%\n"
    }
   }
  },
  {
   "cell_type": "code",
   "execution_count": 7,
   "outputs": [
    {
     "data": {
      "text/plain": "<Figure size 432x288 with 1 Axes>",
      "image/png": "[encoded data removed]"
     },
     "metadata": {
      "needs_background": "light"
     },
     "output_type": "display_data"
    }
   ],
   "source": [
    "plot_graph_from_image(X_train[1298])"
   ],
   "metadata": {
    "collapsed": false,
    "pycharm": {
     "name": "#%%\n"
    }
   }
  },
  {
   "cell_type": "code",
   "execution_count": 10,
   "outputs": [],
   "source": [
    "import os\n",
    "import torch\n",
    "from tqdm.auto import tqdm\n",
    "from torch_geometric.data import Data, Dataset\n",
    "\n",
    "class ImageSuperpixelsDataset(Dataset):\n",
    "    def __init__(self, root, test=False, transform=None, pre_transform=None):\n",
    "        self.test = test\n",
    "        super(ImageSuperpixelsDataset, self).__init__(root, transform, pre_transform)\n",
    "\n",
    "    @property\n",
    "    def raw_file_names(self):\n",
    "        return 'ImagesSuperpixels.pt'\n",
    "\n",
    "    @property\n",
    "    def processed_file_names(self):\n",
    "        if self.test:\n",
    "            return [f'data_test_{i}.pt' for i in range(len(X_test))]\n",
    "        else:\n",
    "            return [f'data_{i}.pt' for i in range(len(X_train))]\n",
    "\n",
    "    def download(self):\n",
    "        pass\n",
    "\n",
    "    def process(self):\n",
    "        if self.test:\n",
    "            for i, j in tqdm(enumerate(X_test), total=len(X_test)):\n",
    "                h, edge_index = get_graph_from_image(X_test[i])\n",
    "                # Create Data Object\n",
    "                data = Data(x=torch.tensor(h, dtype=torch.float),\n",
    "                            edge_index=torch.tensor(edge_index).t().to(torch.long).view(2, -1),\n",
    "                            y=torch.tensor([y_test[i]], dtype=torch.int64))\n",
    "\n",
    "                if self.test:\n",
    "                    torch.save(data, os.path.join(self.processed_dir, f'data_test_{i}.pt'))\n",
    "                else:\n",
    "                    torch.save(data, os.path.join(self.processed_dir, f'data_{i}.pt'))\n",
    "        else:\n",
    "            for i, j in tqdm(enumerate(X_train), total=len(X_train)):\n",
    "                h, edge_index = get_graph_from_image(X_train[i])\n",
    "\n",
    "                # Create Data Object\n",
    "                data = Data(x=torch.tensor(h, dtype=torch.float),\n",
    "                            edge_index=torch.tensor(edge_index).t().to(torch.long).view(2, -1),\n",
    "                            y=torch.tensor([y_train[i]], dtype=torch.int64))\n",
    "\n",
    "                if self.test:\n",
    "                    torch.save(data, os.path.join(self.processed_dir, f'data_test_{i}.pt'))\n",
    "                else:\n",
    "                    torch.save(data, os.path.join(self.processed_dir, f'data_{i}.pt'))\n",
    "\n",
    "    def len(self):\n",
    "        if self.test:\n",
    "            return len(X_test)\n",
    "        else:\n",
    "            return len(X_train)\n",
    "\n",
    "    def get(self, idx):\n",
    "        if self.test:\n",
    "            data = torch.load(os.path.join(self.processed_dir, f'data_test_{idx}.pt'))\n",
    "        else:\n",
    "            data = torch.load(os.path.join(self.processed_dir, f'data_{idx}.pt'))\n",
    "        return data"
   ],
   "metadata": {
    "collapsed": false,
    "pycharm": {
     "name": "#%%\n"
    }
   }
  },
  {
   "cell_type": "code",
   "execution_count": 11,
   "outputs": [
    {
     "name": "stderr",
     "output_type": "stream",
     "text": [
      "Processing...\n"
     ]
    },
    {
     "data": {
      "text/plain": "  0%|          | 0/60000 [00:00<?, ?it/s]",
      "application/vnd.jupyter.widget-view+json": {
       "version_major": 2,
       "version_minor": 0,
       "model_id": "06b6698112d746ee819386bdde1aa692"
      }
     },
     "metadata": {},
     "output_type": "display_data"
    },
    {
     "name": "stderr",
     "output_type": "stream",
     "text": [
      "Done!\n"
     ]
    }
   ],
   "source": [
    "train_dataset = ImageSuperpixelsDataset(root='data/')"
   ],
   "metadata": {
    "collapsed": false,
    "pycharm": {
     "name": "#%%\n"
    }
   }
  },
  {
   "cell_type": "code",
   "execution_count": 12,
   "outputs": [
    {
     "data": {
      "text/plain": "Data(x=[82, 5], edge_index=[2, 492], y=[1])"
     },
     "execution_count": 12,
     "metadata": {},
     "output_type": "execute_result"
    }
   ],
   "source": [
    "train_dataset[59708]"
   ],
   "metadata": {
    "collapsed": false,
    "pycharm": {
     "name": "#%%\n"
    }
   }
  },
  {
   "cell_type": "code",
   "execution_count": 13,
   "outputs": [
    {
     "name": "stderr",
     "output_type": "stream",
     "text": [
      "Processing...\n"
     ]
    },
    {
     "data": {
      "text/plain": "  0%|          | 0/10000 [00:00<?, ?it/s]",
      "application/vnd.jupyter.widget-view+json": {
       "version_major": 2,
       "version_minor": 0,
       "model_id": "c804e29e487f4a508495b51ed36f65ed"
      }
     },
     "metadata": {},
     "output_type": "display_data"
    },
    {
     "name": "stderr",
     "output_type": "stream",
     "text": [
      "Done!\n"
     ]
    }
   ],
   "source": [
    "test_dataset = ImageSuperpixelsDataset(root='data/', test=True)"
   ],
   "metadata": {
    "collapsed": false,
    "pycharm": {
     "name": "#%%\n"
    }
   }
  },
  {
   "cell_type": "code",
   "execution_count": 14,
   "outputs": [
    {
     "data": {
      "text/plain": "Data(x=[80, 5], edge_index=[2, 488], y=[1])"
     },
     "execution_count": 14,
     "metadata": {},
     "output_type": "execute_result"
    }
   ],
   "source": [
    "test_dataset[1]"
   ],
   "metadata": {
    "collapsed": false,
    "pycharm": {
     "name": "#%%\n"
    }
   }
  },
  {
   "cell_type": "code",
   "execution_count": 15,
   "outputs": [
    {
     "data": {
      "text/plain": "tensor([[0.0000e+00, 0.0000e+00, 0.0000e+00, 3.5714e-02, 3.5714e-02],\n        [0.0000e+00, 0.0000e+00, 0.0000e+00, 1.4286e-01, 3.5714e-02],\n        [0.0000e+00, 0.0000e+00, 0.0000e+00, 2.5000e-01, 3.5714e-02],\n        [0.0000e+00, 0.0000e+00, 0.0000e+00, 3.5714e-01, 3.5714e-02],\n        [0.0000e+00, 0.0000e+00, 0.0000e+00, 4.6429e-01, 3.5714e-02],\n        [0.0000e+00, 0.0000e+00, 0.0000e+00, 5.7143e-01, 3.5714e-02],\n        [0.0000e+00, 0.0000e+00, 0.0000e+00, 6.7857e-01, 3.5714e-02],\n        [0.0000e+00, 0.0000e+00, 0.0000e+00, 7.8571e-01, 3.5714e-02],\n        [0.0000e+00, 0.0000e+00, 0.0000e+00, 9.1071e-01, 3.5714e-02],\n        [0.0000e+00, 0.0000e+00, 0.0000e+00, 3.5714e-02, 1.4286e-01],\n        [0.0000e+00, 0.0000e+00, 0.0000e+00, 1.4286e-01, 1.4286e-01],\n        [0.0000e+00, 0.0000e+00, 0.0000e+00, 2.5000e-01, 1.4286e-01],\n        [0.0000e+00, 0.0000e+00, 0.0000e+00, 3.5714e-01, 1.4286e-01],\n        [1.6993e-02, 1.6993e-02, 1.6993e-02, 4.6429e-01, 1.4286e-01],\n        [1.0084e-02, 1.0084e-02, 1.0084e-02, 5.6633e-01, 1.3265e-01],\n        [1.4566e-02, 1.4566e-02, 1.4566e-02, 6.7857e-01, 1.3265e-01],\n        [1.8333e-01, 1.8333e-01, 1.8333e-01, 7.9018e-01, 1.3839e-01],\n        [0.0000e+00, 0.0000e+00, 0.0000e+00, 9.1071e-01, 1.4286e-01],\n        [6.8627e-01, 6.8627e-01, 6.8627e-01, 6.7208e-01, 2.0455e-01],\n        [0.0000e+00, 0.0000e+00, 0.0000e+00, 3.5714e-02, 2.5000e-01],\n        [0.0000e+00, 0.0000e+00, 0.0000e+00, 1.4286e-01, 2.5000e-01],\n        [6.5196e-02, 6.5196e-02, 6.5196e-02, 2.5000e-01, 2.4107e-01],\n        [8.6471e-01, 8.6471e-01, 8.6471e-01, 3.5714e-01, 2.5893e-01],\n        [9.9216e-01, 9.9216e-01, 9.9216e-01, 4.6429e-01, 2.5000e-01],\n        [9.0481e-01, 9.0481e-01, 9.0481e-01, 5.6818e-01, 2.5974e-01],\n        [1.8998e-01, 1.8998e-01, 1.8998e-01, 7.8175e-01, 2.5397e-01],\n        [0.0000e+00, 0.0000e+00, 0.0000e+00, 9.1071e-01, 2.5000e-01],\n        [0.0000e+00, 0.0000e+00, 0.0000e+00, 6.7857e-01, 3.3929e-01],\n        [0.0000e+00, 0.0000e+00, 0.0000e+00, 3.5714e-02, 3.5714e-01],\n        [0.0000e+00, 0.0000e+00, 0.0000e+00, 1.4286e-01, 3.5714e-01],\n        [0.0000e+00, 0.0000e+00, 0.0000e+00, 2.4554e-01, 3.6161e-01],\n        [3.6471e-01, 3.6471e-01, 3.6471e-01, 3.4694e-01, 3.4694e-01],\n        [8.1307e-01, 8.1307e-01, 8.1307e-01, 4.4643e-01, 3.5714e-01],\n        [8.4706e-02, 8.4706e-02, 8.4706e-02, 5.5000e-01, 3.8333e-01],\n        [0.0000e+00, 0.0000e+00, 0.0000e+00, 7.8571e-01, 3.5714e-01],\n        [0.0000e+00, 0.0000e+00, 0.0000e+00, 9.1071e-01, 3.5714e-01],\n        [3.5948e-03, 3.5948e-03, 3.5948e-03, 3.6012e-01, 4.5536e-01],\n        [0.0000e+00, 0.0000e+00, 0.0000e+00, 3.5714e-02, 4.6429e-01],\n        [0.0000e+00, 0.0000e+00, 0.0000e+00, 1.4286e-01, 4.6429e-01],\n        [0.0000e+00, 0.0000e+00, 0.0000e+00, 2.5000e-01, 4.6429e-01],\n        [6.0131e-01, 6.0131e-01, 6.0131e-01, 4.7222e-01, 4.6825e-01],\n        [4.7386e-02, 4.7386e-02, 4.7386e-02, 6.6071e-01, 4.6429e-01],\n        [0.0000e+00, 0.0000e+00, 0.0000e+00, 7.8571e-01, 4.6429e-01],\n        [0.0000e+00, 0.0000e+00, 0.0000e+00, 9.1071e-01, 4.6429e-01],\n        [8.6443e-01, 8.6443e-01, 8.6443e-01, 5.7143e-01, 5.3571e-01],\n        [0.0000e+00, 0.0000e+00, 0.0000e+00, 3.5714e-02, 5.7143e-01],\n        [0.0000e+00, 0.0000e+00, 0.0000e+00, 1.4286e-01, 5.7143e-01],\n        [0.0000e+00, 0.0000e+00, 0.0000e+00, 2.5000e-01, 5.7143e-01],\n        [0.0000e+00, 0.0000e+00, 0.0000e+00, 3.5714e-01, 5.7143e-01],\n        [4.8265e-03, 4.8265e-03, 4.8265e-03, 4.7802e-01, 5.9066e-01],\n        [6.0784e-01, 6.0784e-01, 6.0784e-01, 6.7262e-01, 5.7143e-01],\n        [0.0000e+00, 0.0000e+00, 0.0000e+00, 7.7273e-01, 5.6818e-01],\n        [0.0000e+00, 0.0000e+00, 0.0000e+00, 9.1071e-01, 5.7143e-01],\n        [8.8209e-01, 8.8209e-01, 8.8209e-01, 6.0952e-01, 6.6905e-01],\n        [0.0000e+00, 0.0000e+00, 0.0000e+00, 3.5714e-02, 6.7857e-01],\n        [0.0000e+00, 0.0000e+00, 0.0000e+00, 1.4286e-01, 6.7857e-01],\n        [0.0000e+00, 0.0000e+00, 0.0000e+00, 2.4675e-01, 6.9156e-01],\n        [8.6928e-02, 8.6928e-02, 8.6928e-02, 3.5417e-01, 6.9048e-01],\n        [5.4216e-01, 5.4216e-01, 5.4216e-01, 5.0000e-01, 6.6071e-01],\n        [6.5359e-04, 6.5359e-04, 6.5359e-04, 7.6786e-01, 6.7857e-01],\n        [0.0000e+00, 0.0000e+00, 0.0000e+00, 9.1071e-01, 6.7857e-01],\n        [8.9768e-01, 8.9768e-01, 8.9768e-01, 4.5779e-01, 7.5325e-01],\n        [0.0000e+00, 0.0000e+00, 0.0000e+00, 6.7857e-01, 7.7857e-01],\n        [0.0000e+00, 0.0000e+00, 0.0000e+00, 3.5714e-02, 7.8571e-01],\n        [3.1808e-02, 3.1808e-02, 3.1808e-02, 1.4683e-01, 7.8175e-01],\n        [8.6588e-01, 8.6588e-01, 8.6588e-01, 3.4643e-01, 8.0714e-01],\n        [6.7451e-02, 6.7451e-02, 6.7451e-02, 5.6071e-01, 7.9286e-01],\n        [0.0000e+00, 0.0000e+00, 0.0000e+00, 7.8571e-01, 7.8571e-01],\n        [0.0000e+00, 0.0000e+00, 0.0000e+00, 9.1071e-01, 7.8571e-01],\n        [8.9150e-01, 8.9150e-01, 8.9150e-01, 2.3413e-01, 8.3333e-01],\n        [3.3183e-03, 3.3183e-03, 3.3183e-03, 4.6429e-01, 9.0385e-01],\n        [0.0000e+00, 0.0000e+00, 0.0000e+00, 3.5714e-02, 9.1071e-01],\n        [4.8485e-02, 4.8485e-02, 4.8485e-02, 1.3961e-01, 9.1558e-01],\n        [6.2745e-03, 6.2745e-03, 6.2745e-03, 3.6071e-01, 9.2143e-01],\n        [0.0000e+00, 0.0000e+00, 0.0000e+00, 5.7143e-01, 9.1071e-01],\n        [0.0000e+00, 0.0000e+00, 0.0000e+00, 6.7857e-01, 9.1071e-01],\n        [0.0000e+00, 0.0000e+00, 0.0000e+00, 7.8571e-01, 9.1071e-01],\n        [0.0000e+00, 0.0000e+00, 0.0000e+00, 9.1071e-01, 9.1071e-01],\n        [0.0000e+00, 0.0000e+00, 0.0000e+00, 2.5000e-01, 9.2857e-01],\n        [0.0000e+00, 0.0000e+00, 0.0000e+00, 0.0000e+00, 0.0000e+00]])"
     },
     "execution_count": 15,
     "metadata": {},
     "output_type": "execute_result"
    }
   ],
   "source": [
    "train_dataset[0].x"
   ],
   "metadata": {
    "collapsed": false,
    "pycharm": {
     "name": "#%%\n"
    }
   }
  },
  {
   "cell_type": "code",
   "execution_count": 23,
   "outputs": [
    {
     "data": {
      "text/plain": "tensor([[ 1,  2],\n        [ 1, 10],\n        [ 1,  1],\n        [ 2,  3],\n        [ 2, 11],\n        [ 2,  2],\n        [ 3,  4],\n        [ 3, 12],\n        [ 3,  3],\n        [ 4,  5],\n        [ 4, 13],\n        [ 4,  4],\n        [ 5,  6],\n        [ 5, 14],\n        [ 5,  5],\n        [ 6,  7],\n        [ 6, 15],\n        [ 6,  6],\n        [ 7,  8],\n        [ 7, 16],\n        [ 7,  7],\n        [ 8,  9],\n        [ 8, 17],\n        [ 8,  8],\n        [ 9, 18],\n        [ 9,  9],\n        [10, 11],\n        [10, 20],\n        [10, 10],\n        [11, 12],\n        [11, 21],\n        [11, 11],\n        [12, 13],\n        [12, 22],\n        [12, 12],\n        [13, 14],\n        [13, 22],\n        [13, 23],\n        [13, 13],\n        [14, 15],\n        [14, 23],\n        [14, 24],\n        [14, 14],\n        [15, 16],\n        [15, 19],\n        [15, 25],\n        [15, 15],\n        [16, 17],\n        [16, 19],\n        [16, 16],\n        [17, 18],\n        [17, 19],\n        [17, 26],\n        [17, 17],\n        [18, 27],\n        [18, 18],\n        [19, 25],\n        [19, 26],\n        [19, 28],\n        [19, 19],\n        [20, 21],\n        [20, 29],\n        [20, 20],\n        [21, 22],\n        [21, 30],\n        [21, 21],\n        [22, 23],\n        [22, 31],\n        [22, 22],\n        [23, 24],\n        [23, 32],\n        [23, 33],\n        [23, 23],\n        [24, 25],\n        [24, 33],\n        [24, 24],\n        [25, 28],\n        [25, 34],\n        [25, 25],\n        [26, 27],\n        [26, 28],\n        [26, 35],\n        [26, 26],\n        [27, 36],\n        [27, 27],\n        [28, 35],\n        [28, 42],\n        [28, 34],\n        [28, 28],\n        [29, 30],\n        [29, 38],\n        [29, 29],\n        [30, 31],\n        [30, 39],\n        [30, 30],\n        [31, 32],\n        [31, 37],\n        [31, 40],\n        [31, 31],\n        [32, 33],\n        [32, 37],\n        [32, 32],\n        [33, 34],\n        [33, 41],\n        [33, 33],\n        [34, 41],\n        [34, 42],\n        [34, 45],\n        [34, 34],\n        [35, 36],\n        [35, 43],\n        [35, 35],\n        [36, 44],\n        [36, 36],\n        [37, 41],\n        [37, 49],\n        [37, 50],\n        [37, 40],\n        [37, 37],\n        [38, 39],\n        [38, 46],\n        [38, 38],\n        [39, 40],\n        [39, 47],\n        [39, 39],\n        [40, 48],\n        [40, 40],\n        [41, 45],\n        [41, 50],\n        [41, 41],\n        [42, 43],\n        [42, 45],\n        [42, 51],\n        [42, 52],\n        [42, 42],\n        [43, 44],\n        [43, 52],\n        [43, 43],\n        [44, 53],\n        [44, 44],\n        [45, 50],\n        [45, 51],\n        [45, 54],\n        [45, 45],\n        [46, 47],\n        [46, 55],\n        [46, 46],\n        [47, 48],\n        [47, 56],\n        [47, 47],\n        [48, 49],\n        [48, 57],\n        [48, 48],\n        [49, 50],\n        [49, 58],\n        [49, 49],\n        [50, 54],\n        [50, 58],\n        [50, 59],\n        [50, 50],\n        [51, 52],\n        [51, 54],\n        [51, 60],\n        [51, 51],\n        [52, 53],\n        [52, 60],\n        [52, 52],\n        [53, 61],\n        [53, 53],\n        [54, 60],\n        [54, 62],\n        [54, 63],\n        [54, 67],\n        [54, 59],\n        [54, 54],\n        [55, 56],\n        [55, 64],\n        [55, 55],\n        [56, 57],\n        [56, 65],\n        [56, 56],\n        [57, 58],\n        [57, 65],\n        [57, 70],\n        [57, 57],\n        [58, 59],\n        [58, 62],\n        [58, 66],\n        [58, 58],\n        [59, 62],\n        [59, 59],\n        [60, 61],\n        [60, 63],\n        [60, 68],\n        [60, 60],\n        [61, 69],\n        [61, 61],\n        [62, 66],\n        [62, 67],\n        [62, 71],\n        [62, 62],\n        [63, 68],\n        [63, 76],\n        [63, 67],\n        [63, 63],\n        [64, 65],\n        [64, 72],\n        [64, 64],\n        [65, 70],\n        [65, 73],\n        [65, 65],\n        [66, 70],\n        [66, 74],\n        [66, 66],\n        [67, 71],\n        [67, 75],\n        [67, 67],\n        [68, 69],\n        [68, 77],\n        [68, 68],\n        [69, 78],\n        [69, 69],\n        [70, 73],\n        [70, 79],\n        [70, 70],\n        [71, 75],\n        [71, 74],\n        [71, 71],\n        [72, 73],\n        [72, 72],\n        [73, 79],\n        [73, 73],\n        [74, 79],\n        [74, 74],\n        [75, 76],\n        [75, 75],\n        [76, 77],\n        [76, 76],\n        [77, 78],\n        [77, 77],\n        [78, 78],\n        [79, 79],\n        [ 0,  0],\n        [ 2,  1],\n        [10,  1],\n        [ 1,  1],\n        [ 3,  2],\n        [11,  2],\n        [ 2,  2],\n        [ 4,  3],\n        [12,  3],\n        [ 3,  3],\n        [ 5,  4],\n        [13,  4],\n        [ 4,  4],\n        [ 6,  5],\n        [14,  5],\n        [ 5,  5],\n        [ 7,  6],\n        [15,  6],\n        [ 6,  6],\n        [ 8,  7],\n        [16,  7],\n        [ 7,  7],\n        [ 9,  8],\n        [17,  8],\n        [ 8,  8],\n        [18,  9],\n        [ 9,  9],\n        [11, 10],\n        [20, 10],\n        [10, 10],\n        [12, 11],\n        [21, 11],\n        [11, 11],\n        [13, 12],\n        [22, 12],\n        [12, 12],\n        [14, 13],\n        [22, 13],\n        [23, 13],\n        [13, 13],\n        [15, 14],\n        [23, 14],\n        [24, 14],\n        [14, 14],\n        [16, 15],\n        [19, 15],\n        [25, 15],\n        [15, 15],\n        [17, 16],\n        [19, 16],\n        [16, 16],\n        [18, 17],\n        [19, 17],\n        [26, 17],\n        [17, 17],\n        [27, 18],\n        [18, 18],\n        [25, 19],\n        [26, 19],\n        [28, 19],\n        [19, 19],\n        [21, 20],\n        [29, 20],\n        [20, 20],\n        [22, 21],\n        [30, 21],\n        [21, 21],\n        [23, 22],\n        [31, 22],\n        [22, 22],\n        [24, 23],\n        [32, 23],\n        [33, 23],\n        [23, 23],\n        [25, 24],\n        [33, 24],\n        [24, 24],\n        [28, 25],\n        [34, 25],\n        [25, 25],\n        [27, 26],\n        [28, 26],\n        [35, 26],\n        [26, 26],\n        [36, 27],\n        [27, 27],\n        [35, 28],\n        [42, 28],\n        [34, 28],\n        [28, 28],\n        [30, 29],\n        [38, 29],\n        [29, 29],\n        [31, 30],\n        [39, 30],\n        [30, 30],\n        [32, 31],\n        [37, 31],\n        [40, 31],\n        [31, 31],\n        [33, 32],\n        [37, 32],\n        [32, 32],\n        [34, 33],\n        [41, 33],\n        [33, 33],\n        [41, 34],\n        [42, 34],\n        [45, 34],\n        [34, 34],\n        [36, 35],\n        [43, 35],\n        [35, 35],\n        [44, 36],\n        [36, 36],\n        [41, 37],\n        [49, 37],\n        [50, 37],\n        [40, 37],\n        [37, 37],\n        [39, 38],\n        [46, 38],\n        [38, 38],\n        [40, 39],\n        [47, 39],\n        [39, 39],\n        [48, 40],\n        [40, 40],\n        [45, 41],\n        [50, 41],\n        [41, 41],\n        [43, 42],\n        [45, 42],\n        [51, 42],\n        [52, 42],\n        [42, 42],\n        [44, 43],\n        [52, 43],\n        [43, 43],\n        [53, 44],\n        [44, 44],\n        [50, 45],\n        [51, 45],\n        [54, 45],\n        [45, 45],\n        [47, 46],\n        [55, 46],\n        [46, 46],\n        [48, 47],\n        [56, 47],\n        [47, 47],\n        [49, 48],\n        [57, 48],\n        [48, 48],\n        [50, 49],\n        [58, 49],\n        [49, 49],\n        [54, 50],\n        [58, 50],\n        [59, 50],\n        [50, 50],\n        [52, 51],\n        [54, 51],\n        [60, 51],\n        [51, 51],\n        [53, 52],\n        [60, 52],\n        [52, 52],\n        [61, 53],\n        [53, 53],\n        [60, 54],\n        [62, 54],\n        [63, 54],\n        [67, 54],\n        [59, 54],\n        [54, 54],\n        [56, 55],\n        [64, 55],\n        [55, 55],\n        [57, 56],\n        [65, 56],\n        [56, 56],\n        [58, 57],\n        [65, 57],\n        [70, 57],\n        [57, 57],\n        [59, 58],\n        [62, 58],\n        [66, 58],\n        [58, 58],\n        [62, 59],\n        [59, 59],\n        [61, 60],\n        [63, 60],\n        [68, 60],\n        [60, 60],\n        [69, 61],\n        [61, 61],\n        [66, 62],\n        [67, 62],\n        [71, 62],\n        [62, 62],\n        [68, 63],\n        [76, 63],\n        [67, 63],\n        [63, 63],\n        [65, 64],\n        [72, 64],\n        [64, 64],\n        [70, 65],\n        [73, 65],\n        [65, 65],\n        [70, 66],\n        [74, 66],\n        [66, 66],\n        [71, 67],\n        [75, 67],\n        [67, 67],\n        [69, 68],\n        [77, 68],\n        [68, 68],\n        [78, 69],\n        [69, 69],\n        [73, 70],\n        [79, 70],\n        [70, 70],\n        [75, 71],\n        [74, 71],\n        [71, 71],\n        [73, 72],\n        [72, 72],\n        [79, 73],\n        [73, 73],\n        [79, 74],\n        [74, 74],\n        [76, 75],\n        [75, 75],\n        [77, 76],\n        [76, 76],\n        [78, 77],\n        [77, 77],\n        [78, 78],\n        [79, 79],\n        [ 0,  0]])"
     },
     "execution_count": 23,
     "metadata": {},
     "output_type": "execute_result"
    }
   ],
   "source": [
    "train_dataset[0].edge_index.t()"
   ],
   "metadata": {
    "collapsed": false,
    "pycharm": {
     "name": "#%%\n"
    }
   }
  },
  {
   "cell_type": "code",
   "execution_count": 17,
   "outputs": [],
   "source": [
    "# from torch_geometric.utils import to_networkx\n",
    "# G = to_networkx(train_dataset[0], to_undirected=True)\n",
    "# plt.figure(1, figsize=(8, 8))\n",
    "# nx.draw(G, cmap=plt.get_cmap('Set3'), node_size=70)\n",
    "# plt.show()"
   ],
   "metadata": {
    "collapsed": false,
    "pycharm": {
     "name": "#%%\n"
    }
   }
  },
  {
   "cell_type": "code",
   "execution_count": 18,
   "outputs": [
    {
     "name": "stderr",
     "output_type": "stream",
     "text": [
      "D:\\Anaconda\\envs\\graph-nx\\lib\\site-packages\\torch_geometric\\deprecation.py:12: UserWarning: 'data.DataLoader' is deprecated, use 'loader.DataLoader' instead\n",
      "  warnings.warn(out)\n"
     ]
    }
   ],
   "source": [
    "from torch_geometric.data import DataLoader\n",
    "NUM_GRAPHS_PER_BATCH = 32\n",
    "train_loader = DataLoader(train_dataset, batch_size=NUM_GRAPHS_PER_BATCH, shuffle=True)\n",
    "test_loader = DataLoader(test_dataset, batch_size=NUM_GRAPHS_PER_BATCH, shuffle=True)"
   ],
   "metadata": {
    "collapsed": false,
    "pycharm": {
     "name": "#%%\n"
    }
   }
  },
  {
   "cell_type": "code",
   "execution_count": 19,
   "outputs": [
    {
     "data": {
      "text/plain": "DataBatch(x=[2584, 5], edge_index=[2, 15674], y=[32], batch=[2584], ptr=[33])"
     },
     "execution_count": 19,
     "metadata": {},
     "output_type": "execute_result"
    }
   ],
   "source": [
    "next(iter(train_loader))"
   ],
   "metadata": {
    "collapsed": false,
    "pycharm": {
     "name": "#%%\n"
    }
   }
  },
  {
   "cell_type": "code",
   "execution_count": 20,
   "outputs": [
    {
     "data": {
      "text/plain": "DataBatch(x=[2578, 5], edge_index=[2, 15596], y=[32], batch=[2578], ptr=[33])"
     },
     "execution_count": 20,
     "metadata": {},
     "output_type": "execute_result"
    }
   ],
   "source": [
    "next(iter(test_loader))"
   ],
   "metadata": {
    "collapsed": false,
    "pycharm": {
     "name": "#%%\n"
    }
   }
  },
  {
   "cell_type": "code",
   "execution_count": 21,
   "outputs": [
    {
     "name": "stdout",
     "output_type": "stream",
     "text": [
      "Step 1:\n",
      "=================\n",
      "Number of graphs in the current batch: 32\n",
      "DataBatch(x=[2591, 5], edge_index=[2, 15586], y=[32], batch=[2591], ptr=[33])\n",
      "torch.Size([2591, 5])\n",
      "torch.Size([32])\n",
      "Step 2:\n",
      "=================\n",
      "Number of graphs in the current batch: 32\n",
      "DataBatch(x=[2577, 5], edge_index=[2, 15484], y=[32], batch=[2577], ptr=[33])\n",
      "torch.Size([2577, 5])\n",
      "torch.Size([32])\n",
      "Step 3:\n",
      "=================\n",
      "Number of graphs in the current batch: 32\n",
      "DataBatch(x=[2580, 5], edge_index=[2, 15628], y=[32], batch=[2580], ptr=[33])\n",
      "torch.Size([2580, 5])\n",
      "torch.Size([32])\n",
      "Step 4:\n",
      "=================\n",
      "Number of graphs in the current batch: 32\n",
      "DataBatch(x=[2585, 5], edge_index=[2, 15572], y=[32], batch=[2585], ptr=[33])\n",
      "torch.Size([2585, 5])\n",
      "torch.Size([32])\n",
      "Step 5:\n",
      "=================\n",
      "Number of graphs in the current batch: 32\n",
      "DataBatch(x=[2580, 5], edge_index=[2, 15512], y=[32], batch=[2580], ptr=[33])\n",
      "torch.Size([2580, 5])\n",
      "torch.Size([32])\n",
      "Step 6:\n",
      "=================\n",
      "Number of graphs in the current batch: 32\n",
      "DataBatch(x=[2582, 5], edge_index=[2, 15660], y=[32], batch=[2582], ptr=[33])\n",
      "torch.Size([2582, 5])\n",
      "torch.Size([32])\n",
      "Step 7:\n",
      "=================\n",
      "Number of graphs in the current batch: 32\n",
      "DataBatch(x=[2592, 5], edge_index=[2, 15616], y=[32], batch=[2592], ptr=[33])\n",
      "torch.Size([2592, 5])\n",
      "torch.Size([32])\n",
      "Step 8:\n",
      "=================\n",
      "Number of graphs in the current batch: 32\n",
      "DataBatch(x=[2577, 5], edge_index=[2, 15510], y=[32], batch=[2577], ptr=[33])\n",
      "torch.Size([2577, 5])\n",
      "torch.Size([32])\n",
      "Step 9:\n",
      "=================\n",
      "Number of graphs in the current batch: 32\n",
      "DataBatch(x=[2586, 5], edge_index=[2, 15632], y=[32], batch=[2586], ptr=[33])\n",
      "torch.Size([2586, 5])\n",
      "torch.Size([32])\n",
      "Step 10:\n",
      "=================\n",
      "Number of graphs in the current batch: 32\n",
      "DataBatch(x=[2582, 5], edge_index=[2, 15536], y=[32], batch=[2582], ptr=[33])\n",
      "torch.Size([2582, 5])\n",
      "torch.Size([32])\n"
     ]
    }
   ],
   "source": [
    "for step, data in enumerate(train_loader):\n",
    "    if (step + 1) == 6:\n",
    "        break\n",
    "    print(f'Step {step + 1}:')\n",
    "    print('=================')\n",
    "    print(f'Number of graphs in the current batch: {data.num_graphs}')\n",
    "    print(data)\n",
    "    print(data.x.shape)\n",
    "    print(data.y.shape)"
   ],
   "metadata": {
    "collapsed": false,
    "pycharm": {
     "name": "#%%\n"
    }
   }
  },
  {
   "cell_type": "code",
   "execution_count": 24,
   "outputs": [
    {
     "data": {
      "text/plain": "5"
     },
     "execution_count": 24,
     "metadata": {},
     "output_type": "execute_result"
    }
   ],
   "source": [
    "train_dataset.num_features"
   ],
   "metadata": {
    "collapsed": false,
    "pycharm": {
     "name": "#%%\n"
    }
   }
  },
  {
   "cell_type": "code",
   "execution_count": 25,
   "outputs": [
    {
     "name": "stdout",
     "output_type": "stream",
     "text": [
      "GCN(\n",
      "  (conv1): GCNConv(5, 64)\n",
      "  (conv2): GCNConv(64, 64)\n",
      "  (conv3): GCNConv(64, 64)\n",
      "  (flatten): Flatten(start_dim=1, end_dim=-1)\n",
      "  (lin): Linear(in_features=64, out_features=10, bias=True)\n",
      ")\n"
     ]
    }
   ],
   "source": [
    "from torch.nn import Linear, Flatten\n",
    "import torch.nn.functional as F\n",
    "from torch_geometric.nn import GCNConv, GAT\n",
    "from torch_geometric.nn import global_mean_pool\n",
    "\n",
    "class GCN(torch.nn.Module):\n",
    "    def __init__(self, hidden_channels):\n",
    "        super(GCN, self).__init__()\n",
    "        self.conv1 = GCNConv(train_dataset.num_features, hidden_channels)\n",
    "        self.conv2 = GCNConv(hidden_channels, hidden_channels)\n",
    "        self.conv3 = GCNConv(hidden_channels, hidden_channels)\n",
    "        self.flatten = Flatten()\n",
    "        self.lin = Linear(hidden_channels, 10)\n",
    "\n",
    "    def forward(self, x, edge_index, batch):\n",
    "        x = self.conv1(x, edge_index)\n",
    "        x = x.relu()\n",
    "        x = self.conv2(x, edge_index)\n",
    "        x = x.relu()\n",
    "        x = self.conv3(x, edge_index)\n",
    "        x = global_mean_pool(x, batch)\n",
    "        x = self.flatten(x)\n",
    "        x = F.dropout(x, p=0.5, training=self.training)\n",
    "\n",
    "        return F.log_softmax(self.lin(x), dim=1)\n",
    "\n",
    "model = GCN(hidden_channels=64)\n",
    "print(model)"
   ],
   "metadata": {
    "collapsed": false,
    "pycharm": {
     "name": "#%%\n"
    }
   }
  },
  {
   "cell_type": "code",
   "execution_count": 26,
   "outputs": [
    {
     "name": "stdout",
     "output_type": "stream",
     "text": [
      "cuda\n"
     ]
    }
   ],
   "source": [
    "device = torch.device('cuda' if torch.cuda.is_available() else 'cpu')\n",
    "print(device)"
   ],
   "metadata": {
    "collapsed": false,
    "pycharm": {
     "name": "#%%\n"
    }
   }
  },
  {
   "cell_type": "code",
   "execution_count": 27,
   "outputs": [
    {
     "name": "stdout",
     "output_type": "stream",
     "text": [
      "GCN(\n",
      "  (conv1): GCNConv(5, 64)\n",
      "  (conv2): GCNConv(64, 64)\n",
      "  (conv3): GCNConv(64, 64)\n",
      "  (flatten): Flatten(start_dim=1, end_dim=-1)\n",
      "  (lin): Linear(in_features=64, out_features=10, bias=True)\n",
      ")\n",
      "Epoch: 000, Train Acc: 0.2967, Test Acc: 0.2945\n",
      "Epoch: 001, Train Acc: 0.3333, Test Acc: 0.3348\n",
      "Epoch: 002, Train Acc: 0.3561, Test Acc: 0.3638\n",
      "Epoch: 003, Train Acc: 0.5194, Test Acc: 0.5172\n",
      "Epoch: 004, Train Acc: 0.5563, Test Acc: 0.5630\n",
      "Epoch: 005, Train Acc: 0.5834, Test Acc: 0.5903\n",
      "Epoch: 006, Train Acc: 0.6071, Test Acc: 0.6150\n",
      "Epoch: 007, Train Acc: 0.6104, Test Acc: 0.6171\n",
      "Epoch: 008, Train Acc: 0.6094, Test Acc: 0.6140\n",
      "Epoch: 009, Train Acc: 0.5905, Test Acc: 0.5954\n",
      "Epoch: 010, Train Acc: 0.5736, Test Acc: 0.5773\n",
      "Epoch: 011, Train Acc: 0.6179, Test Acc: 0.6262\n",
      "Epoch: 012, Train Acc: 0.6186, Test Acc: 0.6205\n",
      "Epoch: 013, Train Acc: 0.6181, Test Acc: 0.6235\n",
      "Epoch: 014, Train Acc: 0.6344, Test Acc: 0.6416\n",
      "Epoch: 015, Train Acc: 0.6330, Test Acc: 0.6402\n",
      "Epoch: 016, Train Acc: 0.6318, Test Acc: 0.6425\n",
      "Epoch: 017, Train Acc: 0.6301, Test Acc: 0.6387\n",
      "Epoch: 018, Train Acc: 0.6651, Test Acc: 0.6718\n",
      "Epoch: 019, Train Acc: 0.6603, Test Acc: 0.6708\n",
      "Epoch: 020, Train Acc: 0.6620, Test Acc: 0.6704\n",
      "Epoch: 021, Train Acc: 0.6575, Test Acc: 0.6616\n",
      "Epoch: 022, Train Acc: 0.6380, Test Acc: 0.6402\n",
      "Epoch: 023, Train Acc: 0.6745, Test Acc: 0.6763\n",
      "Epoch: 024, Train Acc: 0.6529, Test Acc: 0.6591\n",
      "Epoch: 025, Train Acc: 0.6753, Test Acc: 0.6849\n",
      "Epoch: 026, Train Acc: 0.6671, Test Acc: 0.6724\n",
      "Epoch: 027, Train Acc: 0.6668, Test Acc: 0.6720\n",
      "Epoch: 028, Train Acc: 0.6643, Test Acc: 0.6683\n",
      "Epoch: 029, Train Acc: 0.6766, Test Acc: 0.6853\n",
      "Epoch: 030, Train Acc: 0.6825, Test Acc: 0.6870\n",
      "Epoch: 031, Train Acc: 0.6543, Test Acc: 0.6549\n",
      "Epoch: 032, Train Acc: 0.6792, Test Acc: 0.6847\n",
      "Epoch: 033, Train Acc: 0.6749, Test Acc: 0.6857\n",
      "Epoch: 034, Train Acc: 0.6867, Test Acc: 0.6886\n",
      "Epoch: 035, Train Acc: 0.6903, Test Acc: 0.6943\n",
      "Epoch: 036, Train Acc: 0.6778, Test Acc: 0.6840\n",
      "Epoch: 037, Train Acc: 0.6844, Test Acc: 0.6923\n",
      "Epoch: 038, Train Acc: 0.6933, Test Acc: 0.6963\n",
      "Epoch: 039, Train Acc: 0.6876, Test Acc: 0.6918\n",
      "Epoch: 040, Train Acc: 0.6854, Test Acc: 0.6914\n",
      "Epoch: 041, Train Acc: 0.6722, Test Acc: 0.6775\n",
      "Epoch: 042, Train Acc: 0.6627, Test Acc: 0.6712\n",
      "Epoch: 043, Train Acc: 0.6810, Test Acc: 0.6851\n",
      "Epoch: 044, Train Acc: 0.6595, Test Acc: 0.6624\n",
      "Epoch: 045, Train Acc: 0.6924, Test Acc: 0.6970\n",
      "Epoch: 046, Train Acc: 0.6520, Test Acc: 0.6572\n",
      "Epoch: 047, Train Acc: 0.6948, Test Acc: 0.7010\n",
      "Epoch: 048, Train Acc: 0.6869, Test Acc: 0.6928\n",
      "Epoch: 049, Train Acc: 0.6832, Test Acc: 0.6835\n",
      "Epoch: 050, Train Acc: 0.6863, Test Acc: 0.6890\n",
      "Epoch: 051, Train Acc: 0.6391, Test Acc: 0.6412\n",
      "Epoch: 052, Train Acc: 0.6592, Test Acc: 0.6608\n"
     ]
    },
    {
     "ename": "KeyboardInterrupt",
     "evalue": "",
     "output_type": "error",
     "traceback": [
      "\u001B[1;31m---------------------------------------------------------------------------\u001B[0m",
      "\u001B[1;31mKeyboardInterrupt\u001B[0m                         Traceback (most recent call last)",
      "\u001B[1;32m~\\AppData\\Local\\Temp\\ipykernel_27984\\1500602956.py\u001B[0m in \u001B[0;36m<module>\u001B[1;34m\u001B[0m\n\u001B[0;32m     24\u001B[0m \u001B[1;33m\u001B[0m\u001B[0m\n\u001B[0;32m     25\u001B[0m \u001B[1;32mfor\u001B[0m \u001B[0mepoch\u001B[0m \u001B[1;32min\u001B[0m \u001B[0mrange\u001B[0m\u001B[1;33m(\u001B[0m\u001B[1;36m0\u001B[0m\u001B[1;33m,\u001B[0m \u001B[1;36m200\u001B[0m\u001B[1;33m)\u001B[0m\u001B[1;33m:\u001B[0m\u001B[1;33m\u001B[0m\u001B[1;33m\u001B[0m\u001B[0m\n\u001B[1;32m---> 26\u001B[1;33m     \u001B[0mtrain\u001B[0m\u001B[1;33m(\u001B[0m\u001B[1;33m)\u001B[0m\u001B[1;33m\u001B[0m\u001B[1;33m\u001B[0m\u001B[0m\n\u001B[0m\u001B[0;32m     27\u001B[0m     \u001B[0mtrain_acc\u001B[0m \u001B[1;33m=\u001B[0m \u001B[0mtest\u001B[0m\u001B[1;33m(\u001B[0m\u001B[0mtrain_loader\u001B[0m\u001B[1;33m)\u001B[0m\u001B[1;33m\u001B[0m\u001B[1;33m\u001B[0m\u001B[0m\n\u001B[0;32m     28\u001B[0m     \u001B[0mtest_acc\u001B[0m \u001B[1;33m=\u001B[0m \u001B[0mtest\u001B[0m\u001B[1;33m(\u001B[0m\u001B[0mtest_loader\u001B[0m\u001B[1;33m)\u001B[0m\u001B[1;33m\u001B[0m\u001B[1;33m\u001B[0m\u001B[0m\n",
      "\u001B[1;32m~\\AppData\\Local\\Temp\\ipykernel_27984\\1500602956.py\u001B[0m in \u001B[0;36mtrain\u001B[1;34m()\u001B[0m\n\u001B[0;32m      7\u001B[0m \u001B[1;32mdef\u001B[0m \u001B[0mtrain\u001B[0m\u001B[1;33m(\u001B[0m\u001B[1;33m)\u001B[0m\u001B[1;33m:\u001B[0m\u001B[1;33m\u001B[0m\u001B[1;33m\u001B[0m\u001B[0m\n\u001B[0;32m      8\u001B[0m     \u001B[0mmodel\u001B[0m\u001B[1;33m.\u001B[0m\u001B[0mtrain\u001B[0m\u001B[1;33m(\u001B[0m\u001B[1;33m)\u001B[0m\u001B[1;33m\u001B[0m\u001B[1;33m\u001B[0m\u001B[0m\n\u001B[1;32m----> 9\u001B[1;33m     \u001B[1;32mfor\u001B[0m \u001B[0mdata\u001B[0m \u001B[1;32min\u001B[0m \u001B[0mtrain_loader\u001B[0m\u001B[1;33m:\u001B[0m\u001B[1;33m\u001B[0m\u001B[1;33m\u001B[0m\u001B[0m\n\u001B[0m\u001B[0;32m     10\u001B[0m         \u001B[0mout\u001B[0m \u001B[1;33m=\u001B[0m \u001B[0mmodel\u001B[0m\u001B[1;33m(\u001B[0m\u001B[0mdata\u001B[0m\u001B[1;33m.\u001B[0m\u001B[0mx\u001B[0m\u001B[1;33m.\u001B[0m\u001B[0mpin_memory\u001B[0m\u001B[1;33m(\u001B[0m\u001B[1;33m)\u001B[0m\u001B[1;33m.\u001B[0m\u001B[0mto\u001B[0m\u001B[1;33m(\u001B[0m\u001B[0mdevice\u001B[0m\u001B[1;33m)\u001B[0m\u001B[1;33m,\u001B[0m \u001B[0mdata\u001B[0m\u001B[1;33m.\u001B[0m\u001B[0medge_index\u001B[0m\u001B[1;33m.\u001B[0m\u001B[0mpin_memory\u001B[0m\u001B[1;33m(\u001B[0m\u001B[1;33m)\u001B[0m\u001B[1;33m.\u001B[0m\u001B[0mto\u001B[0m\u001B[1;33m(\u001B[0m\u001B[0mdevice\u001B[0m\u001B[1;33m)\u001B[0m\u001B[1;33m,\u001B[0m \u001B[0mdata\u001B[0m\u001B[1;33m.\u001B[0m\u001B[0mbatch\u001B[0m\u001B[1;33m.\u001B[0m\u001B[0mpin_memory\u001B[0m\u001B[1;33m(\u001B[0m\u001B[1;33m)\u001B[0m\u001B[1;33m.\u001B[0m\u001B[0mto\u001B[0m\u001B[1;33m(\u001B[0m\u001B[0mdevice\u001B[0m\u001B[1;33m)\u001B[0m\u001B[1;33m)\u001B[0m\u001B[1;33m\u001B[0m\u001B[1;33m\u001B[0m\u001B[0m\n\u001B[0;32m     11\u001B[0m         \u001B[0mloss\u001B[0m \u001B[1;33m=\u001B[0m \u001B[0mcriterion\u001B[0m\u001B[1;33m(\u001B[0m\u001B[0mout\u001B[0m\u001B[1;33m,\u001B[0m \u001B[0mdata\u001B[0m\u001B[1;33m.\u001B[0m\u001B[0my\u001B[0m\u001B[1;33m.\u001B[0m\u001B[0mpin_memory\u001B[0m\u001B[1;33m(\u001B[0m\u001B[1;33m)\u001B[0m\u001B[1;33m.\u001B[0m\u001B[0mto\u001B[0m\u001B[1;33m(\u001B[0m\u001B[0mdevice\u001B[0m\u001B[1;33m)\u001B[0m\u001B[1;33m)\u001B[0m\u001B[1;33m\u001B[0m\u001B[1;33m\u001B[0m\u001B[0m\n",
      "\u001B[1;32mD:\\Anaconda\\envs\\graph-nx\\lib\\site-packages\\torch\\utils\\data\\dataloader.py\u001B[0m in \u001B[0;36m__next__\u001B[1;34m(self)\u001B[0m\n\u001B[0;32m    528\u001B[0m             \u001B[1;32mif\u001B[0m \u001B[0mself\u001B[0m\u001B[1;33m.\u001B[0m\u001B[0m_sampler_iter\u001B[0m \u001B[1;32mis\u001B[0m \u001B[1;32mNone\u001B[0m\u001B[1;33m:\u001B[0m\u001B[1;33m\u001B[0m\u001B[1;33m\u001B[0m\u001B[0m\n\u001B[0;32m    529\u001B[0m                 \u001B[0mself\u001B[0m\u001B[1;33m.\u001B[0m\u001B[0m_reset\u001B[0m\u001B[1;33m(\u001B[0m\u001B[1;33m)\u001B[0m\u001B[1;33m\u001B[0m\u001B[1;33m\u001B[0m\u001B[0m\n\u001B[1;32m--> 530\u001B[1;33m             \u001B[0mdata\u001B[0m \u001B[1;33m=\u001B[0m \u001B[0mself\u001B[0m\u001B[1;33m.\u001B[0m\u001B[0m_next_data\u001B[0m\u001B[1;33m(\u001B[0m\u001B[1;33m)\u001B[0m\u001B[1;33m\u001B[0m\u001B[1;33m\u001B[0m\u001B[0m\n\u001B[0m\u001B[0;32m    531\u001B[0m             \u001B[0mself\u001B[0m\u001B[1;33m.\u001B[0m\u001B[0m_num_yielded\u001B[0m \u001B[1;33m+=\u001B[0m \u001B[1;36m1\u001B[0m\u001B[1;33m\u001B[0m\u001B[1;33m\u001B[0m\u001B[0m\n\u001B[0;32m    532\u001B[0m             \u001B[1;32mif\u001B[0m \u001B[0mself\u001B[0m\u001B[1;33m.\u001B[0m\u001B[0m_dataset_kind\u001B[0m \u001B[1;33m==\u001B[0m \u001B[0m_DatasetKind\u001B[0m\u001B[1;33m.\u001B[0m\u001B[0mIterable\u001B[0m \u001B[1;32mand\u001B[0m\u001B[0;31m \u001B[0m\u001B[0;31m\\\u001B[0m\u001B[1;33m\u001B[0m\u001B[1;33m\u001B[0m\u001B[0m\n",
      "\u001B[1;32mD:\\Anaconda\\envs\\graph-nx\\lib\\site-packages\\torch\\utils\\data\\dataloader.py\u001B[0m in \u001B[0;36m_next_data\u001B[1;34m(self)\u001B[0m\n\u001B[0;32m    568\u001B[0m     \u001B[1;32mdef\u001B[0m \u001B[0m_next_data\u001B[0m\u001B[1;33m(\u001B[0m\u001B[0mself\u001B[0m\u001B[1;33m)\u001B[0m\u001B[1;33m:\u001B[0m\u001B[1;33m\u001B[0m\u001B[1;33m\u001B[0m\u001B[0m\n\u001B[0;32m    569\u001B[0m         \u001B[0mindex\u001B[0m \u001B[1;33m=\u001B[0m \u001B[0mself\u001B[0m\u001B[1;33m.\u001B[0m\u001B[0m_next_index\u001B[0m\u001B[1;33m(\u001B[0m\u001B[1;33m)\u001B[0m  \u001B[1;31m# may raise StopIteration\u001B[0m\u001B[1;33m\u001B[0m\u001B[1;33m\u001B[0m\u001B[0m\n\u001B[1;32m--> 570\u001B[1;33m         \u001B[0mdata\u001B[0m \u001B[1;33m=\u001B[0m \u001B[0mself\u001B[0m\u001B[1;33m.\u001B[0m\u001B[0m_dataset_fetcher\u001B[0m\u001B[1;33m.\u001B[0m\u001B[0mfetch\u001B[0m\u001B[1;33m(\u001B[0m\u001B[0mindex\u001B[0m\u001B[1;33m)\u001B[0m  \u001B[1;31m# may raise StopIteration\u001B[0m\u001B[1;33m\u001B[0m\u001B[1;33m\u001B[0m\u001B[0m\n\u001B[0m\u001B[0;32m    571\u001B[0m         \u001B[1;32mif\u001B[0m \u001B[0mself\u001B[0m\u001B[1;33m.\u001B[0m\u001B[0m_pin_memory\u001B[0m\u001B[1;33m:\u001B[0m\u001B[1;33m\u001B[0m\u001B[1;33m\u001B[0m\u001B[0m\n\u001B[0;32m    572\u001B[0m             \u001B[0mdata\u001B[0m \u001B[1;33m=\u001B[0m \u001B[0m_utils\u001B[0m\u001B[1;33m.\u001B[0m\u001B[0mpin_memory\u001B[0m\u001B[1;33m.\u001B[0m\u001B[0mpin_memory\u001B[0m\u001B[1;33m(\u001B[0m\u001B[0mdata\u001B[0m\u001B[1;33m)\u001B[0m\u001B[1;33m\u001B[0m\u001B[1;33m\u001B[0m\u001B[0m\n",
      "\u001B[1;32mD:\\Anaconda\\envs\\graph-nx\\lib\\site-packages\\torch\\utils\\data\\_utils\\fetch.py\u001B[0m in \u001B[0;36mfetch\u001B[1;34m(self, possibly_batched_index)\u001B[0m\n\u001B[0;32m     47\u001B[0m     \u001B[1;32mdef\u001B[0m \u001B[0mfetch\u001B[0m\u001B[1;33m(\u001B[0m\u001B[0mself\u001B[0m\u001B[1;33m,\u001B[0m \u001B[0mpossibly_batched_index\u001B[0m\u001B[1;33m)\u001B[0m\u001B[1;33m:\u001B[0m\u001B[1;33m\u001B[0m\u001B[1;33m\u001B[0m\u001B[0m\n\u001B[0;32m     48\u001B[0m         \u001B[1;32mif\u001B[0m \u001B[0mself\u001B[0m\u001B[1;33m.\u001B[0m\u001B[0mauto_collation\u001B[0m\u001B[1;33m:\u001B[0m\u001B[1;33m\u001B[0m\u001B[1;33m\u001B[0m\u001B[0m\n\u001B[1;32m---> 49\u001B[1;33m             \u001B[0mdata\u001B[0m \u001B[1;33m=\u001B[0m \u001B[1;33m[\u001B[0m\u001B[0mself\u001B[0m\u001B[1;33m.\u001B[0m\u001B[0mdataset\u001B[0m\u001B[1;33m[\u001B[0m\u001B[0midx\u001B[0m\u001B[1;33m]\u001B[0m \u001B[1;32mfor\u001B[0m \u001B[0midx\u001B[0m \u001B[1;32min\u001B[0m \u001B[0mpossibly_batched_index\u001B[0m\u001B[1;33m]\u001B[0m\u001B[1;33m\u001B[0m\u001B[1;33m\u001B[0m\u001B[0m\n\u001B[0m\u001B[0;32m     50\u001B[0m         \u001B[1;32melse\u001B[0m\u001B[1;33m:\u001B[0m\u001B[1;33m\u001B[0m\u001B[1;33m\u001B[0m\u001B[0m\n\u001B[0;32m     51\u001B[0m             \u001B[0mdata\u001B[0m \u001B[1;33m=\u001B[0m \u001B[0mself\u001B[0m\u001B[1;33m.\u001B[0m\u001B[0mdataset\u001B[0m\u001B[1;33m[\u001B[0m\u001B[0mpossibly_batched_index\u001B[0m\u001B[1;33m]\u001B[0m\u001B[1;33m\u001B[0m\u001B[1;33m\u001B[0m\u001B[0m\n",
      "\u001B[1;32mD:\\Anaconda\\envs\\graph-nx\\lib\\site-packages\\torch\\utils\\data\\_utils\\fetch.py\u001B[0m in \u001B[0;36m<listcomp>\u001B[1;34m(.0)\u001B[0m\n\u001B[0;32m     47\u001B[0m     \u001B[1;32mdef\u001B[0m \u001B[0mfetch\u001B[0m\u001B[1;33m(\u001B[0m\u001B[0mself\u001B[0m\u001B[1;33m,\u001B[0m \u001B[0mpossibly_batched_index\u001B[0m\u001B[1;33m)\u001B[0m\u001B[1;33m:\u001B[0m\u001B[1;33m\u001B[0m\u001B[1;33m\u001B[0m\u001B[0m\n\u001B[0;32m     48\u001B[0m         \u001B[1;32mif\u001B[0m \u001B[0mself\u001B[0m\u001B[1;33m.\u001B[0m\u001B[0mauto_collation\u001B[0m\u001B[1;33m:\u001B[0m\u001B[1;33m\u001B[0m\u001B[1;33m\u001B[0m\u001B[0m\n\u001B[1;32m---> 49\u001B[1;33m             \u001B[0mdata\u001B[0m \u001B[1;33m=\u001B[0m \u001B[1;33m[\u001B[0m\u001B[0mself\u001B[0m\u001B[1;33m.\u001B[0m\u001B[0mdataset\u001B[0m\u001B[1;33m[\u001B[0m\u001B[0midx\u001B[0m\u001B[1;33m]\u001B[0m \u001B[1;32mfor\u001B[0m \u001B[0midx\u001B[0m \u001B[1;32min\u001B[0m \u001B[0mpossibly_batched_index\u001B[0m\u001B[1;33m]\u001B[0m\u001B[1;33m\u001B[0m\u001B[1;33m\u001B[0m\u001B[0m\n\u001B[0m\u001B[0;32m     50\u001B[0m         \u001B[1;32melse\u001B[0m\u001B[1;33m:\u001B[0m\u001B[1;33m\u001B[0m\u001B[1;33m\u001B[0m\u001B[0m\n\u001B[0;32m     51\u001B[0m             \u001B[0mdata\u001B[0m \u001B[1;33m=\u001B[0m \u001B[0mself\u001B[0m\u001B[1;33m.\u001B[0m\u001B[0mdataset\u001B[0m\u001B[1;33m[\u001B[0m\u001B[0mpossibly_batched_index\u001B[0m\u001B[1;33m]\u001B[0m\u001B[1;33m\u001B[0m\u001B[1;33m\u001B[0m\u001B[0m\n",
      "\u001B[1;32mD:\\Anaconda\\envs\\graph-nx\\lib\\site-packages\\torch_geometric\\data\\dataset.py\u001B[0m in \u001B[0;36m__getitem__\u001B[1;34m(self, idx)\u001B[0m\n\u001B[0;32m    195\u001B[0m                 or (isinstance(idx, np.ndarray) and np.isscalar(idx))):\n\u001B[0;32m    196\u001B[0m \u001B[1;33m\u001B[0m\u001B[0m\n\u001B[1;32m--> 197\u001B[1;33m             \u001B[0mdata\u001B[0m \u001B[1;33m=\u001B[0m \u001B[0mself\u001B[0m\u001B[1;33m.\u001B[0m\u001B[0mget\u001B[0m\u001B[1;33m(\u001B[0m\u001B[0mself\u001B[0m\u001B[1;33m.\u001B[0m\u001B[0mindices\u001B[0m\u001B[1;33m(\u001B[0m\u001B[1;33m)\u001B[0m\u001B[1;33m[\u001B[0m\u001B[0midx\u001B[0m\u001B[1;33m]\u001B[0m\u001B[1;33m)\u001B[0m\u001B[1;33m\u001B[0m\u001B[1;33m\u001B[0m\u001B[0m\n\u001B[0m\u001B[0;32m    198\u001B[0m             \u001B[0mdata\u001B[0m \u001B[1;33m=\u001B[0m \u001B[0mdata\u001B[0m \u001B[1;32mif\u001B[0m \u001B[0mself\u001B[0m\u001B[1;33m.\u001B[0m\u001B[0mtransform\u001B[0m \u001B[1;32mis\u001B[0m \u001B[1;32mNone\u001B[0m \u001B[1;32melse\u001B[0m \u001B[0mself\u001B[0m\u001B[1;33m.\u001B[0m\u001B[0mtransform\u001B[0m\u001B[1;33m(\u001B[0m\u001B[0mdata\u001B[0m\u001B[1;33m)\u001B[0m\u001B[1;33m\u001B[0m\u001B[1;33m\u001B[0m\u001B[0m\n\u001B[0;32m    199\u001B[0m             \u001B[1;32mreturn\u001B[0m \u001B[0mdata\u001B[0m\u001B[1;33m\u001B[0m\u001B[1;33m\u001B[0m\u001B[0m\n",
      "\u001B[1;32m~\\AppData\\Local\\Temp\\ipykernel_27984\\3537491202.py\u001B[0m in \u001B[0;36mget\u001B[1;34m(self, idx)\u001B[0m\n\u001B[0;32m     60\u001B[0m             \u001B[0mdata\u001B[0m \u001B[1;33m=\u001B[0m \u001B[0mtorch\u001B[0m\u001B[1;33m.\u001B[0m\u001B[0mload\u001B[0m\u001B[1;33m(\u001B[0m\u001B[0mos\u001B[0m\u001B[1;33m.\u001B[0m\u001B[0mpath\u001B[0m\u001B[1;33m.\u001B[0m\u001B[0mjoin\u001B[0m\u001B[1;33m(\u001B[0m\u001B[0mself\u001B[0m\u001B[1;33m.\u001B[0m\u001B[0mprocessed_dir\u001B[0m\u001B[1;33m,\u001B[0m \u001B[1;34mf'data_test_{idx}.pt'\u001B[0m\u001B[1;33m)\u001B[0m\u001B[1;33m)\u001B[0m\u001B[1;33m\u001B[0m\u001B[1;33m\u001B[0m\u001B[0m\n\u001B[0;32m     61\u001B[0m         \u001B[1;32melse\u001B[0m\u001B[1;33m:\u001B[0m\u001B[1;33m\u001B[0m\u001B[1;33m\u001B[0m\u001B[0m\n\u001B[1;32m---> 62\u001B[1;33m             \u001B[0mdata\u001B[0m \u001B[1;33m=\u001B[0m \u001B[0mtorch\u001B[0m\u001B[1;33m.\u001B[0m\u001B[0mload\u001B[0m\u001B[1;33m(\u001B[0m\u001B[0mos\u001B[0m\u001B[1;33m.\u001B[0m\u001B[0mpath\u001B[0m\u001B[1;33m.\u001B[0m\u001B[0mjoin\u001B[0m\u001B[1;33m(\u001B[0m\u001B[0mself\u001B[0m\u001B[1;33m.\u001B[0m\u001B[0mprocessed_dir\u001B[0m\u001B[1;33m,\u001B[0m \u001B[1;34mf'data_{idx}.pt'\u001B[0m\u001B[1;33m)\u001B[0m\u001B[1;33m)\u001B[0m\u001B[1;33m\u001B[0m\u001B[1;33m\u001B[0m\u001B[0m\n\u001B[0m\u001B[0;32m     63\u001B[0m         \u001B[1;32mreturn\u001B[0m \u001B[0mdata\u001B[0m\u001B[1;33m\u001B[0m\u001B[1;33m\u001B[0m\u001B[0m\n",
      "\u001B[1;32mD:\\Anaconda\\envs\\graph-nx\\lib\\site-packages\\torch\\serialization.py\u001B[0m in \u001B[0;36mload\u001B[1;34m(f, map_location, pickle_module, **pickle_load_args)\u001B[0m\n\u001B[0;32m    703\u001B[0m             \u001B[1;31m# reset back to the original position.\u001B[0m\u001B[1;33m\u001B[0m\u001B[1;33m\u001B[0m\u001B[1;33m\u001B[0m\u001B[0m\n\u001B[0;32m    704\u001B[0m             \u001B[0morig_position\u001B[0m \u001B[1;33m=\u001B[0m \u001B[0mopened_file\u001B[0m\u001B[1;33m.\u001B[0m\u001B[0mtell\u001B[0m\u001B[1;33m(\u001B[0m\u001B[1;33m)\u001B[0m\u001B[1;33m\u001B[0m\u001B[1;33m\u001B[0m\u001B[0m\n\u001B[1;32m--> 705\u001B[1;33m             \u001B[1;32mwith\u001B[0m \u001B[0m_open_zipfile_reader\u001B[0m\u001B[1;33m(\u001B[0m\u001B[0mopened_file\u001B[0m\u001B[1;33m)\u001B[0m \u001B[1;32mas\u001B[0m \u001B[0mopened_zipfile\u001B[0m\u001B[1;33m:\u001B[0m\u001B[1;33m\u001B[0m\u001B[1;33m\u001B[0m\u001B[0m\n\u001B[0m\u001B[0;32m    706\u001B[0m                 \u001B[1;32mif\u001B[0m \u001B[0m_is_torchscript_zip\u001B[0m\u001B[1;33m(\u001B[0m\u001B[0mopened_zipfile\u001B[0m\u001B[1;33m)\u001B[0m\u001B[1;33m:\u001B[0m\u001B[1;33m\u001B[0m\u001B[1;33m\u001B[0m\u001B[0m\n\u001B[0;32m    707\u001B[0m                     warnings.warn(\"'torch.load' received a zip file that looks like a TorchScript archive\"\n",
      "\u001B[1;32mD:\\Anaconda\\envs\\graph-nx\\lib\\site-packages\\torch\\serialization.py\u001B[0m in \u001B[0;36m__init__\u001B[1;34m(self, name_or_buffer)\u001B[0m\n\u001B[0;32m    241\u001B[0m \u001B[1;32mclass\u001B[0m \u001B[0m_open_zipfile_reader\u001B[0m\u001B[1;33m(\u001B[0m\u001B[0m_opener\u001B[0m\u001B[1;33m)\u001B[0m\u001B[1;33m:\u001B[0m\u001B[1;33m\u001B[0m\u001B[1;33m\u001B[0m\u001B[0m\n\u001B[0;32m    242\u001B[0m     \u001B[1;32mdef\u001B[0m \u001B[0m__init__\u001B[0m\u001B[1;33m(\u001B[0m\u001B[0mself\u001B[0m\u001B[1;33m,\u001B[0m \u001B[0mname_or_buffer\u001B[0m\u001B[1;33m)\u001B[0m \u001B[1;33m->\u001B[0m \u001B[1;32mNone\u001B[0m\u001B[1;33m:\u001B[0m\u001B[1;33m\u001B[0m\u001B[1;33m\u001B[0m\u001B[0m\n\u001B[1;32m--> 243\u001B[1;33m         \u001B[0msuper\u001B[0m\u001B[1;33m(\u001B[0m\u001B[0m_open_zipfile_reader\u001B[0m\u001B[1;33m,\u001B[0m \u001B[0mself\u001B[0m\u001B[1;33m)\u001B[0m\u001B[1;33m.\u001B[0m\u001B[0m__init__\u001B[0m\u001B[1;33m(\u001B[0m\u001B[0mtorch\u001B[0m\u001B[1;33m.\u001B[0m\u001B[0m_C\u001B[0m\u001B[1;33m.\u001B[0m\u001B[0mPyTorchFileReader\u001B[0m\u001B[1;33m(\u001B[0m\u001B[0mname_or_buffer\u001B[0m\u001B[1;33m)\u001B[0m\u001B[1;33m)\u001B[0m\u001B[1;33m\u001B[0m\u001B[1;33m\u001B[0m\u001B[0m\n\u001B[0m\u001B[0;32m    244\u001B[0m \u001B[1;33m\u001B[0m\u001B[0m\n\u001B[0;32m    245\u001B[0m \u001B[1;33m\u001B[0m\u001B[0m\n",
      "\u001B[1;31mKeyboardInterrupt\u001B[0m: "
     ]
    }
   ],
   "source": [
    "model = GCN(hidden_channels=64)\n",
    "model.to(device)\n",
    "print(model)\n",
    "optimizer = torch.optim.Adam(model.parameters(), lr=0.005, weight_decay=5e-4)\n",
    "criterion = torch.nn.CrossEntropyLoss()\n",
    "\n",
    "def train():\n",
    "    model.train()\n",
    "    for data in train_loader:\n",
    "        out = model(data.x.pin_memory().to(device), data.edge_index.pin_memory().to(device), data.batch.pin_memory().to(device))\n",
    "        loss = criterion(out, data.y.pin_memory().to(device))\n",
    "        loss.backward()\n",
    "        optimizer.step()\n",
    "        optimizer.zero_grad()\n",
    "\n",
    "def test(loader):\n",
    "    model.eval()\n",
    "    correct = 0\n",
    "    for data in loader:\n",
    "        out = model(data.x.pin_memory().to(device), data.edge_index.pin_memory().to(device), data.batch.pin_memory().to(device))\n",
    "        pred = out.argmax(dim=1)\n",
    "        correct += int((pred == data.y.pin_memory().to(device)).sum())\n",
    "    return correct / len(loader.dataset)\n",
    "\n",
    "for epoch in range(0, 200):\n",
    "    train()\n",
    "    train_acc = test(train_loader)\n",
    "    test_acc = test(test_loader)\n",
    "    print(f'Epoch: {epoch:03d}, Train Acc: {train_acc:.4f}, Test Acc: {test_acc:.4f}')"
   ],
   "metadata": {
    "collapsed": false,
    "pycharm": {
     "name": "#%%\n"
    }
   }
  },
  {
   "cell_type": "code",
   "execution_count": null,
   "outputs": [],
   "source": [],
   "metadata": {
    "collapsed": false,
    "pycharm": {
     "name": "#%%\n"
    }
   }
  }
 ],
 "metadata": {
  "kernelspec": {
   "name": "pygeo",
   "language": "python",
   "display_name": "pygeo"
  },
  "language_info": {
   "codemirror_mode": {
    "name": "ipython",
    "version": 2
   },
   "file_extension": ".py",
   "mimetype": "text/x-python",
   "name": "python",
   "nbconvert_exporter": "python",
   "pygments_lexer": "ipython2",
   "version": "2.7.6"
  }
 },
 "nbformat": 4,
 "nbformat_minor": 0
}