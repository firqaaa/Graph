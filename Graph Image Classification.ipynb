{
 "nbformat": 4,
 "nbformat_minor": 0,
 "metadata": {
  "colab": {
   "name": "Graph Image.ipynb",
   "provenance": []
  },
  "kernelspec": {
   "name": "graph-nx",
   "language": "python",
   "display_name": "graph-nx"
  },
  "language_info": {
   "name": "python"
  },
  "widgets": {
   "application/vnd.jupyter.widget-state+json": {
    "c56152ba6bdd462088d899e047c52fc6": {
     "model_module": "@jupyter-widgets/controls",
     "model_name": "HBoxModel",
     "model_module_version": "1.5.0",
     "state": {
      "_dom_classes": [],
      "_model_module": "@jupyter-widgets/controls",
      "_model_module_version": "1.5.0",
      "_model_name": "HBoxModel",
      "_view_count": null,
      "_view_module": "@jupyter-widgets/controls",
      "_view_module_version": "1.5.0",
      "_view_name": "HBoxView",
      "box_style": "",
      "children": [
       "IPY_MODEL_348818844afe4484978b5d53211a0e10",
       "IPY_MODEL_747f80e5f57e432687fa987c699ea19c",
       "IPY_MODEL_ac3a5bd596fe4e82a6368152b95ea165"
      ],
      "layout": "IPY_MODEL_c92bd92ed9774978aaa5ad9794d5e929"
     }
    },
    "348818844afe4484978b5d53211a0e10": {
     "model_module": "@jupyter-widgets/controls",
     "model_name": "HTMLModel",
     "model_module_version": "1.5.0",
     "state": {
      "_dom_classes": [],
      "_model_module": "@jupyter-widgets/controls",
      "_model_module_version": "1.5.0",
      "_model_name": "HTMLModel",
      "_view_count": null,
      "_view_module": "@jupyter-widgets/controls",
      "_view_module_version": "1.5.0",
      "_view_name": "HTMLView",
      "description": "",
      "description_tooltip": null,
      "layout": "IPY_MODEL_cea259a0265d41a8b7cfa797c7e37d20",
      "placeholder": "​",
      "style": "IPY_MODEL_accd015bbf6741ee9546117d5ebec8de",
      "value": "100%"
     }
    },
    "747f80e5f57e432687fa987c699ea19c": {
     "model_module": "@jupyter-widgets/controls",
     "model_name": "FloatProgressModel",
     "model_module_version": "1.5.0",
     "state": {
      "_dom_classes": [],
      "_model_module": "@jupyter-widgets/controls",
      "_model_module_version": "1.5.0",
      "_model_name": "FloatProgressModel",
      "_view_count": null,
      "_view_module": "@jupyter-widgets/controls",
      "_view_module_version": "1.5.0",
      "_view_name": "ProgressView",
      "bar_style": "success",
      "description": "",
      "description_tooltip": null,
      "layout": "IPY_MODEL_98a694e49e974209aac0329fdf56fc13",
      "max": 50000,
      "min": 0,
      "orientation": "horizontal",
      "style": "IPY_MODEL_40799ed2524e4b57ae52c4f933648e12",
      "value": 50000
     }
    },
    "ac3a5bd596fe4e82a6368152b95ea165": {
     "model_module": "@jupyter-widgets/controls",
     "model_name": "HTMLModel",
     "model_module_version": "1.5.0",
     "state": {
      "_dom_classes": [],
      "_model_module": "@jupyter-widgets/controls",
      "_model_module_version": "1.5.0",
      "_model_name": "HTMLModel",
      "_view_count": null,
      "_view_module": "@jupyter-widgets/controls",
      "_view_module_version": "1.5.0",
      "_view_name": "HTMLView",
      "description": "",
      "description_tooltip": null,
      "layout": "IPY_MODEL_97c9ea6db67e46749ca745f0f52c8543",
      "placeholder": "​",
      "style": "IPY_MODEL_7527875d11f949598db3f6d9625f0294",
      "value": " 50000/50000 [2:41:46&lt;00:00,  5.33it/s]"
     }
    },
    "c92bd92ed9774978aaa5ad9794d5e929": {
     "model_module": "@jupyter-widgets/base",
     "model_name": "LayoutModel",
     "model_module_version": "1.2.0",
     "state": {
      "_model_module": "@jupyter-widgets/base",
      "_model_module_version": "1.2.0",
      "_model_name": "LayoutModel",
      "_view_count": null,
      "_view_module": "@jupyter-widgets/base",
      "_view_module_version": "1.2.0",
      "_view_name": "LayoutView",
      "align_content": null,
      "align_items": null,
      "align_self": null,
      "border": null,
      "bottom": null,
      "display": null,
      "flex": null,
      "flex_flow": null,
      "grid_area": null,
      "grid_auto_columns": null,
      "grid_auto_flow": null,
      "grid_auto_rows": null,
      "grid_column": null,
      "grid_gap": null,
      "grid_row": null,
      "grid_template_areas": null,
      "grid_template_columns": null,
      "grid_template_rows": null,
      "height": null,
      "justify_content": null,
      "justify_items": null,
      "left": null,
      "margin": null,
      "max_height": null,
      "max_width": null,
      "min_height": null,
      "min_width": null,
      "object_fit": null,
      "object_position": null,
      "order": null,
      "overflow": null,
      "overflow_x": null,
      "overflow_y": null,
      "padding": null,
      "right": null,
      "top": null,
      "visibility": null,
      "width": null
     }
    },
    "cea259a0265d41a8b7cfa797c7e37d20": {
     "model_module": "@jupyter-widgets/base",
     "model_name": "LayoutModel",
     "model_module_version": "1.2.0",
     "state": {
      "_model_module": "@jupyter-widgets/base",
      "_model_module_version": "1.2.0",
      "_model_name": "LayoutModel",
      "_view_count": null,
      "_view_module": "@jupyter-widgets/base",
      "_view_module_version": "1.2.0",
      "_view_name": "LayoutView",
      "align_content": null,
      "align_items": null,
      "align_self": null,
      "border": null,
      "bottom": null,
      "display": null,
      "flex": null,
      "flex_flow": null,
      "grid_area": null,
      "grid_auto_columns": null,
      "grid_auto_flow": null,
      "grid_auto_rows": null,
      "grid_column": null,
      "grid_gap": null,
      "grid_row": null,
      "grid_template_areas": null,
      "grid_template_columns": null,
      "grid_template_rows": null,
      "height": null,
      "justify_content": null,
      "justify_items": null,
      "left": null,
      "margin": null,
      "max_height": null,
      "max_width": null,
      "min_height": null,
      "min_width": null,
      "object_fit": null,
      "object_position": null,
      "order": null,
      "overflow": null,
      "overflow_x": null,
      "overflow_y": null,
      "padding": null,
      "right": null,
      "top": null,
      "visibility": null,
      "width": null
     }
    },
    "accd015bbf6741ee9546117d5ebec8de": {
     "model_module": "@jupyter-widgets/controls",
     "model_name": "DescriptionStyleModel",
     "model_module_version": "1.5.0",
     "state": {
      "_model_module": "@jupyter-widgets/controls",
      "_model_module_version": "1.5.0",
      "_model_name": "DescriptionStyleModel",
      "_view_count": null,
      "_view_module": "@jupyter-widgets/base",
      "_view_module_version": "1.2.0",
      "_view_name": "StyleView",
      "description_width": ""
     }
    },
    "98a694e49e974209aac0329fdf56fc13": {
     "model_module": "@jupyter-widgets/base",
     "model_name": "LayoutModel",
     "model_module_version": "1.2.0",
     "state": {
      "_model_module": "@jupyter-widgets/base",
      "_model_module_version": "1.2.0",
      "_model_name": "LayoutModel",
      "_view_count": null,
      "_view_module": "@jupyter-widgets/base",
      "_view_module_version": "1.2.0",
      "_view_name": "LayoutView",
      "align_content": null,
      "align_items": null,
      "align_self": null,
      "border": null,
      "bottom": null,
      "display": null,
      "flex": null,
      "flex_flow": null,
      "grid_area": null,
      "grid_auto_columns": null,
      "grid_auto_flow": null,
      "grid_auto_rows": null,
      "grid_column": null,
      "grid_gap": null,
      "grid_row": null,
      "grid_template_areas": null,
      "grid_template_columns": null,
      "grid_template_rows": null,
      "height": null,
      "justify_content": null,
      "justify_items": null,
      "left": null,
      "margin": null,
      "max_height": null,
      "max_width": null,
      "min_height": null,
      "min_width": null,
      "object_fit": null,
      "object_position": null,
      "order": null,
      "overflow": null,
      "overflow_x": null,
      "overflow_y": null,
      "padding": null,
      "right": null,
      "top": null,
      "visibility": null,
      "width": null
     }
    },
    "40799ed2524e4b57ae52c4f933648e12": {
     "model_module": "@jupyter-widgets/controls",
     "model_name": "ProgressStyleModel",
     "model_module_version": "1.5.0",
     "state": {
      "_model_module": "@jupyter-widgets/controls",
      "_model_module_version": "1.5.0",
      "_model_name": "ProgressStyleModel",
      "_view_count": null,
      "_view_module": "@jupyter-widgets/base",
      "_view_module_version": "1.2.0",
      "_view_name": "StyleView",
      "bar_color": null,
      "description_width": ""
     }
    },
    "97c9ea6db67e46749ca745f0f52c8543": {
     "model_module": "@jupyter-widgets/base",
     "model_name": "LayoutModel",
     "model_module_version": "1.2.0",
     "state": {
      "_model_module": "@jupyter-widgets/base",
      "_model_module_version": "1.2.0",
      "_model_name": "LayoutModel",
      "_view_count": null,
      "_view_module": "@jupyter-widgets/base",
      "_view_module_version": "1.2.0",
      "_view_name": "LayoutView",
      "align_content": null,
      "align_items": null,
      "align_self": null,
      "border": null,
      "bottom": null,
      "display": null,
      "flex": null,
      "flex_flow": null,
      "grid_area": null,
      "grid_auto_columns": null,
      "grid_auto_flow": null,
      "grid_auto_rows": null,
      "grid_column": null,
      "grid_gap": null,
      "grid_row": null,
      "grid_template_areas": null,
      "grid_template_columns": null,
      "grid_template_rows": null,
      "height": null,
      "justify_content": null,
      "justify_items": null,
      "left": null,
      "margin": null,
      "max_height": null,
      "max_width": null,
      "min_height": null,
      "min_width": null,
      "object_fit": null,
      "object_position": null,
      "order": null,
      "overflow": null,
      "overflow_x": null,
      "overflow_y": null,
      "padding": null,
      "right": null,
      "top": null,
      "visibility": null,
      "width": null
     }
    },
    "7527875d11f949598db3f6d9625f0294": {
     "model_module": "@jupyter-widgets/controls",
     "model_name": "DescriptionStyleModel",
     "model_module_version": "1.5.0",
     "state": {
      "_model_module": "@jupyter-widgets/controls",
      "_model_module_version": "1.5.0",
      "_model_name": "DescriptionStyleModel",
      "_view_count": null,
      "_view_module": "@jupyter-widgets/base",
      "_view_module_version": "1.2.0",
      "_view_name": "StyleView",
      "description_width": ""
     }
    },
    "d0b3ae11183f43ef9a506a9e711d768a": {
     "model_module": "@jupyter-widgets/controls",
     "model_name": "HBoxModel",
     "model_module_version": "1.5.0",
     "state": {
      "_dom_classes": [],
      "_model_module": "@jupyter-widgets/controls",
      "_model_module_version": "1.5.0",
      "_model_name": "HBoxModel",
      "_view_count": null,
      "_view_module": "@jupyter-widgets/controls",
      "_view_module_version": "1.5.0",
      "_view_name": "HBoxView",
      "box_style": "",
      "children": [
       "IPY_MODEL_23a55ae21e5243469695c9a9e0c3ac27",
       "IPY_MODEL_f0350021452f4f948930e5bc6223634d",
       "IPY_MODEL_df3bf2a2eb43483ba059e4519c62dcff"
      ],
      "layout": "IPY_MODEL_511fed6236aa4aa784f0bd7d92e9066c"
     }
    },
    "23a55ae21e5243469695c9a9e0c3ac27": {
     "model_module": "@jupyter-widgets/controls",
     "model_name": "HTMLModel",
     "model_module_version": "1.5.0",
     "state": {
      "_dom_classes": [],
      "_model_module": "@jupyter-widgets/controls",
      "_model_module_version": "1.5.0",
      "_model_name": "HTMLModel",
      "_view_count": null,
      "_view_module": "@jupyter-widgets/controls",
      "_view_module_version": "1.5.0",
      "_view_name": "HTMLView",
      "description": "",
      "description_tooltip": null,
      "layout": "IPY_MODEL_c1fdcde738b2487f8485db029a3b8f30",
      "placeholder": "​",
      "style": "IPY_MODEL_69da09068f61436884b6ab64830deb6d",
      "value": "100%"
     }
    },
    "f0350021452f4f948930e5bc6223634d": {
     "model_module": "@jupyter-widgets/controls",
     "model_name": "FloatProgressModel",
     "model_module_version": "1.5.0",
     "state": {
      "_dom_classes": [],
      "_model_module": "@jupyter-widgets/controls",
      "_model_module_version": "1.5.0",
      "_model_name": "FloatProgressModel",
      "_view_count": null,
      "_view_module": "@jupyter-widgets/controls",
      "_view_module_version": "1.5.0",
      "_view_name": "ProgressView",
      "bar_style": "success",
      "description": "",
      "description_tooltip": null,
      "layout": "IPY_MODEL_cfefb0cf016642798b82b9d227c88e90",
      "max": 10000,
      "min": 0,
      "orientation": "horizontal",
      "style": "IPY_MODEL_a531843a4c0646708d19b97612f8d44c",
      "value": 10000
     }
    },
    "df3bf2a2eb43483ba059e4519c62dcff": {
     "model_module": "@jupyter-widgets/controls",
     "model_name": "HTMLModel",
     "model_module_version": "1.5.0",
     "state": {
      "_dom_classes": [],
      "_model_module": "@jupyter-widgets/controls",
      "_model_module_version": "1.5.0",
      "_model_name": "HTMLModel",
      "_view_count": null,
      "_view_module": "@jupyter-widgets/controls",
      "_view_module_version": "1.5.0",
      "_view_name": "HTMLView",
      "description": "",
      "description_tooltip": null,
      "layout": "IPY_MODEL_5d14ddfc33614e2683a42ed577a3bfc1",
      "placeholder": "​",
      "style": "IPY_MODEL_7063f82fb4074a9c8f936f00b563ee11",
      "value": " 10000/10000 [32:23&lt;00:00,  5.45it/s]"
     }
    },
    "511fed6236aa4aa784f0bd7d92e9066c": {
     "model_module": "@jupyter-widgets/base",
     "model_name": "LayoutModel",
     "model_module_version": "1.2.0",
     "state": {
      "_model_module": "@jupyter-widgets/base",
      "_model_module_version": "1.2.0",
      "_model_name": "LayoutModel",
      "_view_count": null,
      "_view_module": "@jupyter-widgets/base",
      "_view_module_version": "1.2.0",
      "_view_name": "LayoutView",
      "align_content": null,
      "align_items": null,
      "align_self": null,
      "border": null,
      "bottom": null,
      "display": null,
      "flex": null,
      "flex_flow": null,
      "grid_area": null,
      "grid_auto_columns": null,
      "grid_auto_flow": null,
      "grid_auto_rows": null,
      "grid_column": null,
      "grid_gap": null,
      "grid_row": null,
      "grid_template_areas": null,
      "grid_template_columns": null,
      "grid_template_rows": null,
      "height": null,
      "justify_content": null,
      "justify_items": null,
      "left": null,
      "margin": null,
      "max_height": null,
      "max_width": null,
      "min_height": null,
      "min_width": null,
      "object_fit": null,
      "object_position": null,
      "order": null,
      "overflow": null,
      "overflow_x": null,
      "overflow_y": null,
      "padding": null,
      "right": null,
      "top": null,
      "visibility": null,
      "width": null
     }
    },
    "c1fdcde738b2487f8485db029a3b8f30": {
     "model_module": "@jupyter-widgets/base",
     "model_name": "LayoutModel",
     "model_module_version": "1.2.0",
     "state": {
      "_model_module": "@jupyter-widgets/base",
      "_model_module_version": "1.2.0",
      "_model_name": "LayoutModel",
      "_view_count": null,
      "_view_module": "@jupyter-widgets/base",
      "_view_module_version": "1.2.0",
      "_view_name": "LayoutView",
      "align_content": null,
      "align_items": null,
      "align_self": null,
      "border": null,
      "bottom": null,
      "display": null,
      "flex": null,
      "flex_flow": null,
      "grid_area": null,
      "grid_auto_columns": null,
      "grid_auto_flow": null,
      "grid_auto_rows": null,
      "grid_column": null,
      "grid_gap": null,
      "grid_row": null,
      "grid_template_areas": null,
      "grid_template_columns": null,
      "grid_template_rows": null,
      "height": null,
      "justify_content": null,
      "justify_items": null,
      "left": null,
      "margin": null,
      "max_height": null,
      "max_width": null,
      "min_height": null,
      "min_width": null,
      "object_fit": null,
      "object_position": null,
      "order": null,
      "overflow": null,
      "overflow_x": null,
      "overflow_y": null,
      "padding": null,
      "right": null,
      "top": null,
      "visibility": null,
      "width": null
     }
    },
    "69da09068f61436884b6ab64830deb6d": {
     "model_module": "@jupyter-widgets/controls",
     "model_name": "DescriptionStyleModel",
     "model_module_version": "1.5.0",
     "state": {
      "_model_module": "@jupyter-widgets/controls",
      "_model_module_version": "1.5.0",
      "_model_name": "DescriptionStyleModel",
      "_view_count": null,
      "_view_module": "@jupyter-widgets/base",
      "_view_module_version": "1.2.0",
      "_view_name": "StyleView",
      "description_width": ""
     }
    },
    "cfefb0cf016642798b82b9d227c88e90": {
     "model_module": "@jupyter-widgets/base",
     "model_name": "LayoutModel",
     "model_module_version": "1.2.0",
     "state": {
      "_model_module": "@jupyter-widgets/base",
      "_model_module_version": "1.2.0",
      "_model_name": "LayoutModel",
      "_view_count": null,
      "_view_module": "@jupyter-widgets/base",
      "_view_module_version": "1.2.0",
      "_view_name": "LayoutView",
      "align_content": null,
      "align_items": null,
      "align_self": null,
      "border": null,
      "bottom": null,
      "display": null,
      "flex": null,
      "flex_flow": null,
      "grid_area": null,
      "grid_auto_columns": null,
      "grid_auto_flow": null,
      "grid_auto_rows": null,
      "grid_column": null,
      "grid_gap": null,
      "grid_row": null,
      "grid_template_areas": null,
      "grid_template_columns": null,
      "grid_template_rows": null,
      "height": null,
      "justify_content": null,
      "justify_items": null,
      "left": null,
      "margin": null,
      "max_height": null,
      "max_width": null,
      "min_height": null,
      "min_width": null,
      "object_fit": null,
      "object_position": null,
      "order": null,
      "overflow": null,
      "overflow_x": null,
      "overflow_y": null,
      "padding": null,
      "right": null,
      "top": null,
      "visibility": null,
      "width": null
     }
    },
    "a531843a4c0646708d19b97612f8d44c": {
     "model_module": "@jupyter-widgets/controls",
     "model_name": "ProgressStyleModel",
     "model_module_version": "1.5.0",
     "state": {
      "_model_module": "@jupyter-widgets/controls",
      "_model_module_version": "1.5.0",
      "_model_name": "ProgressStyleModel",
      "_view_count": null,
      "_view_module": "@jupyter-widgets/base",
      "_view_module_version": "1.2.0",
      "_view_name": "StyleView",
      "bar_color": null,
      "description_width": ""
     }
    },
    "5d14ddfc33614e2683a42ed577a3bfc1": {
     "model_module": "@jupyter-widgets/base",
     "model_name": "LayoutModel",
     "model_module_version": "1.2.0",
     "state": {
      "_model_module": "@jupyter-widgets/base",
      "_model_module_version": "1.2.0",
      "_model_name": "LayoutModel",
      "_view_count": null,
      "_view_module": "@jupyter-widgets/base",
      "_view_module_version": "1.2.0",
      "_view_name": "LayoutView",
      "align_content": null,
      "align_items": null,
      "align_self": null,
      "border": null,
      "bottom": null,
      "display": null,
      "flex": null,
      "flex_flow": null,
      "grid_area": null,
      "grid_auto_columns": null,
      "grid_auto_flow": null,
      "grid_auto_rows": null,
      "grid_column": null,
      "grid_gap": null,
      "grid_row": null,
      "grid_template_areas": null,
      "grid_template_columns": null,
      "grid_template_rows": null,
      "height": null,
      "justify_content": null,
      "justify_items": null,
      "left": null,
      "margin": null,
      "max_height": null,
      "max_width": null,
      "min_height": null,
      "min_width": null,
      "object_fit": null,
      "object_position": null,
      "order": null,
      "overflow": null,
      "overflow_x": null,
      "overflow_y": null,
      "padding": null,
      "right": null,
      "top": null,
      "visibility": null,
      "width": null
     }
    },
    "7063f82fb4074a9c8f936f00b563ee11": {
     "model_module": "@jupyter-widgets/controls",
     "model_name": "DescriptionStyleModel",
     "model_module_version": "1.5.0",
     "state": {
      "_model_module": "@jupyter-widgets/controls",
      "_model_module_version": "1.5.0",
      "_model_name": "DescriptionStyleModel",
      "_view_count": null,
      "_view_module": "@jupyter-widgets/base",
      "_view_module_version": "1.2.0",
      "_view_name": "StyleView",
      "description_width": ""
     }
    }
   }
  }
 },
 "cells": [
  {
   "cell_type": "code",
   "execution_count": 1,
   "metadata": {
    "id": "NGniM9ijh3qs",
    "pycharm": {
     "name": "#%%\n"
    }
   },
   "outputs": [],
   "source": [
    "import numpy as np\n",
    "import pandas as pd\n",
    "import seaborn as sns\n",
    "import networkx as nx\n",
    "from skimage.util import montage\n",
    "from IPython.display import Image, display, SVG, clear_output, HTML\n",
    "\n",
    "import matplotlib.pyplot as plt\n",
    "%matplotlib inline\n",
    "plt.rcParams[\"figure.figsize\"] = (6, 6)\n",
    "plt.rcParams[\"figure.dpi\"] = 125\n",
    "plt.rcParams[\"font.size\"] = 14\n",
    "plt.rcParams[\"font.sans-serif\"] = ['DejaVu Sans']\n",
    "plt.style.use('ggplot')\n",
    "sns.set_style(\"whitegrid\", {'axes.grid':False})\n",
    "plt.rcParams['image.cmap'] = 'gray'\n",
    "\n",
    "import scipy.sparse as sp\n",
    "from sklearn.neighbors import kneighbors_graph\n",
    "from tensorflow.keras.datasets import mnist as m\n",
    "from sklearn.model_selection import train_test_split\n",
    "\n",
    "MNIST_SIZE = 28"
   ]
  },
  {
   "cell_type": "code",
   "source": [
    "class ImageGrid(object):\n",
    "    def __init__(self, array=None, diff_edge=False, seed=32):\n",
    "        \"\"\"[summary]\n",
    "\n",
    "        Args:\n",
    "            array ([numpy array], optional): [H W C=1,3 tensor]. Defaults to None.\n",
    "            diff_edge (bool, optional): [description]. Defaults to False.\n",
    "        \"\"\"\n",
    "        self.reset()\n",
    "        # self.set_array(array, diff_edge=diff_edge)\n",
    "        self.array = array.astype(np.float32) if array.ndim == 3 else np.expand_dims(array, axis=2)\n",
    "        self.height, self.width = array.shape[:2]\n",
    "        self.seed = seed\n",
    "        # Create the graph\n",
    "        self.graph = nx.grid_2d_graph(self.height, self.width)\n",
    "\n",
    "        self.set_nodes(weight=None)\n",
    "        self.set_edges(weight=None, diff_edge=diff_edge)\n",
    "        self.number_of_nodes = self.graph.number_of_nodes()\n",
    "        self.number_of_edges = self.graph.number_of_edges()\n",
    "\n",
    "    def reset(self):\n",
    "        self.height = 0\n",
    "        self.width = 0\n",
    "        self.array = None\n",
    "        self.graph = None\n",
    "\n",
    "    def set_edges(self, weight=None, diff_edge=True, cc=8):\n",
    "        if cc==8:\n",
    "            k=1\n",
    "            self.graph.add_edges_from([\n",
    "                                          ((x+0, y+0), (x+0, y+k))\n",
    "                                          for x in range(self.width-k)\n",
    "                                          for y in range(self.height-k)\n",
    "                                      ] + [\n",
    "                                          ((x+0, y+0), (x+k, y+0))\n",
    "                                          for x in range(self.width-k)\n",
    "                                          for y in range(self.height-k)\n",
    "                                      ] + [\n",
    "                                          ((x+k, y+0), (x+k, y+k))\n",
    "                                          for x in range(self.width-k)\n",
    "                                          for y in range(self.height-k)\n",
    "                                      ] + [\n",
    "                                          ((x+0, y+k), (x+k, y+k))\n",
    "                                          for x in range(self.width-k)\n",
    "                                          for y in range(self.height-k)\n",
    "                                      ], weight=0.5)\n",
    "\n",
    "            # diagonal edges\n",
    "            self.graph.add_edges_from([\n",
    "                                          ((x+0, y+0), (x+k, y+k))\n",
    "                                          for x in range(self.width-k)\n",
    "                                          for y in range(self.height-k)\n",
    "                                      ] + [\n",
    "                                          ((x+k, y+0), (x+0, y+k))\n",
    "                                          for x in range(self.width-k)\n",
    "                                          for y in range(self.height-k)\n",
    "                                      ], weight=0.5)\n",
    "\n",
    "            np.random.seed(self.seed)\n",
    "            # k = np.random.choice([2, 4, 8, 16])\n",
    "            # straight edges\n",
    "            x = np.random.choice(self.width, size=(self.height*self.width//4), replace=True)\n",
    "            y = np.random.choice(self.height,  size=(self.height*self.width//4), replace=True)\n",
    "            u = np.random.choice(self.width, size=(self.height*self.width//4), replace=True)\n",
    "            v = np.random.choice(self.height,  size=(self.height*self.width//4), replace=True)\n",
    "            self.graph.add_edges_from([\n",
    "                ((x, y), (u, v)) for x, y, u, v in zip(x, y, u, v)\n",
    "            ], weight=0.5)\n",
    "\n",
    "        elif cc==4:\n",
    "            pass\n",
    "\n",
    "        # Add edge to master node\n",
    "        self.graph.add_edges_from([\n",
    "            ((x, y), (-1, 0))\n",
    "            for x in range(self.width)\n",
    "            for y in range(self.height)\n",
    "        ], weight=0.5)\n",
    "\n",
    "        self.graph.add_edges_from([\n",
    "            ((x, y), (0, -1))\n",
    "            for x in range(self.width)\n",
    "            for y in range(self.height)\n",
    "        ], weight=0.5)\n",
    "\n",
    "\n",
    "        if diff_edge==\"mean\":\n",
    "            for e, edge in enumerate(self.graph.edges):\n",
    "                # Compute the mean of the affinity\n",
    "                self.graph.edges[edge]['weight'] = (self.array[edge[0]] - self.array[edge[1]]) * 0.5\n",
    "        elif diff_edge==\"diff\":\n",
    "            for e, edge in enumerate(self.graph.edges):\n",
    "                self.graph.edges[edge]['weight'] = ( 1 - np.abs(self.array[edge[0]] - self.array[edge[1]]) )\n",
    "\n",
    "    def set_nodes(self, weight=None):\n",
    "        for n, node in enumerate(self.graph.nodes):\n",
    "            y = n // self.width\n",
    "            x = n % self.width\n",
    "            self.graph.nodes[node]['weight'] = self.array[y,x,:]\\\n",
    "                if weight is None else np.array([weight], dtype=np.float32)\n",
    "        # Set master node\n",
    "        self.graph.add_node((-1, 0), weight=np.array([1.0], dtype=np.float32) if weight is None else np.array([weight], dtype=np.float32))\n",
    "        self.graph.add_node((0, -1), weight=np.array([0.0], dtype=np.float32) if weight is None else np.array([weight], dtype=np.float32))"
   ],
   "metadata": {
    "id": "hvZlap5BnVxA",
    "pycharm": {
     "name": "#%%\n"
    }
   },
   "execution_count": 2,
   "outputs": []
  },
  {
   "cell_type": "code",
   "source": [
    "(X_train, y_train), (X_test, y_test) = m.load_data()\n",
    "X_train, X_test = X_train / 255., X_test / 255.\n",
    "X_train, X_val, y_train, y_val = train_test_split(X_train, y_train, test_size=10000, random_state=0)"
   ],
   "metadata": {
    "id": "IsJZROUIgIOK",
    "pycharm": {
     "name": "#%%\n"
    }
   },
   "execution_count": 3,
   "outputs": []
  },
  {
   "cell_type": "code",
   "source": [
    "print(X_train.shape)\n",
    "print(X_test.shape)"
   ],
   "metadata": {
    "colab": {
     "base_uri": "https://localhost:8080/"
    },
    "id": "B5WQocYtgVYE",
    "outputId": "8f127748-4c19-49f9-f468-d18a6f0bd9b7",
    "pycharm": {
     "name": "#%%\n"
    }
   },
   "execution_count": 4,
   "outputs": [
    {
     "name": "stdout",
     "output_type": "stream",
     "text": [
      "(50000, 28, 28)\n",
      "(10000, 28, 28)\n"
     ]
    }
   ]
  },
  {
   "cell_type": "code",
   "source": [
    "# !pip install torch-scatter torch-sparse torch-cluster torch-spline-conv torch-geometric -f https://data.pyg.org/whl/torch-1.11.0+cu113.html"
   ],
   "metadata": {
    "colab": {
     "base_uri": "https://localhost:8080/"
    },
    "id": "BmLdp21biTmy",
    "outputId": "7b80f7f7-df0e-4f60-d505-ac5a286f9b4a",
    "pycharm": {
     "name": "#%%\n"
    }
   },
   "execution_count": 5,
   "outputs": []
  },
  {
   "cell_type": "code",
   "source": [
    "import torch_geometric\n",
    "grid = ImageGrid(X_train[0], diff_edge=\"diff\", seed=42)\n",
    "G = torch_geometric.utils.from_networkx(grid.graph,\n",
    "                                                  group_node_attrs=['weight'],\n",
    "                                                  group_edge_attrs=['weight'])\n",
    "G.y = [y_train[0]]\n",
    "G.y[0]"
   ],
   "metadata": {
    "colab": {
     "base_uri": "https://localhost:8080/"
    },
    "id": "QzM6vnt1hmr9",
    "outputId": "c000b10b-037d-4ce5-d508-ed607edfb6a5",
    "pycharm": {
     "name": "#%%\n"
    }
   },
   "execution_count": 6,
   "outputs": [
    {
     "name": "stderr",
     "output_type": "stream",
     "text": [
      "D:\\Anaconda\\envs\\graph-nx\\lib\\site-packages\\torch_geometric\\utils\\convert.py:178: UserWarning: Creating a tensor from a list of numpy.ndarrays is extremely slow. Please consider converting the list to a single numpy.ndarray with numpy.array() before converting to a tensor. (Triggered internally at  C:\\cb\\pytorch_1000000000000\\work\\torch\\csrc\\utils\\tensor_new.cpp:210.)\n",
      "  data[key] = torch.tensor(value)\n"
     ]
    },
    {
     "data": {
      "text/plain": "7"
     },
     "execution_count": 6,
     "metadata": {},
     "output_type": "execute_result"
    }
   ]
  },
  {
   "cell_type": "code",
   "source": [
    "import os\n",
    "import torch\n",
    "from tqdm.notebook import tqdm\n",
    "from torch_geometric.data import Data, Dataset\n",
    "\n",
    "class ImageDataset(Dataset):\n",
    "  def __init__(self, root, test=False, transform=None, pre_transform=None):\n",
    "    self.test = test\n",
    "    super(ImageDataset, self).__init__(root, transform, pre_transform)\n",
    "  \n",
    "  @property\n",
    "  def raw_file_names(self):\n",
    "      return \"GraphMNIST.csv\"\n",
    "  @property\n",
    "  def processed_file_names(self):\n",
    "    if self.test:\n",
    "      return [f'data_test_{i}.pt' for i in range(len(X_test))]\n",
    "    else:\n",
    "      return [f'data_{i}.pt' for i in range(len(X_train))]\n",
    "\n",
    "  def download(self):\n",
    "    pass \n",
    "  \n",
    "  def process(self):\n",
    "    if self.test:\n",
    "      for i, j in tqdm(enumerate(X_test), total=len(X_test)):\n",
    "        grid = ImageGrid(X_test[i], diff_edge=\"diff\", seed=42)\n",
    "        G = torch_geometric.utils.from_networkx(grid.graph,\n",
    "                                                group_node_attrs=['weight'],\n",
    "                                                group_edge_attrs=['weight'])\n",
    "        \n",
    "        G.y = torch.tensor(np.asarray([y_test[i]]), dtype=torch.int64)\n",
    "\n",
    "        if self.test:\n",
    "          torch.save(G, os.path.join(self.processed_dir, f'data_test_{i}.pt'))\n",
    "        else:\n",
    "          torch.save(G, os.path.join(self.processed_dir, f'data_{i}.pt'))\n",
    "    else:\n",
    "      for i, j in tqdm(enumerate(X_train), total=len(X_train)):\n",
    "        grid = ImageGrid(X_train[i], diff_edge=\"diff\", seed=42)\n",
    "        G = torch_geometric.utils.from_networkx(grid.graph,\n",
    "                                                group_node_attrs=['weight'],\n",
    "                                                group_edge_attrs=['weight'])\n",
    "        \n",
    "        G.y = torch.tensor(np.asarray([y_train[i]]), dtype=torch.int64)\n",
    "\n",
    "        if self.test:\n",
    "          torch.save(G, os.path.join(self.processed_dir, f'data_test_{i}.pt'))\n",
    "        else:\n",
    "          torch.save(G, os.path.join(self.processed_dir, f'data_{i}.pt'))\n",
    "  \n",
    "  def len(self):\n",
    "    if self.test:\n",
    "      return len(X_test)\n",
    "    else:\n",
    "      return len(X_train)\n",
    "  \n",
    "  def get(self, idx):\n",
    "    if self.test:\n",
    "      data = torch.load(os.path.join(self.processed_dir, f'data_test_{idx}.pt'))\n",
    "    else:\n",
    "      data = torch.load(os.path.join(self.processed_dir, f'data_{idx}.pt'))\n",
    "    return data"
   ],
   "metadata": {
    "id": "6xjC1msPiwtt",
    "pycharm": {
     "name": "#%%\n"
    }
   },
   "execution_count": 7,
   "outputs": []
  },
  {
   "cell_type": "code",
   "source": [
    "train_dataset = ImageDataset(root='data/')"
   ],
   "metadata": {
    "colab": {
     "base_uri": "https://localhost:8080/",
     "height": 84,
     "referenced_widgets": [
      "c56152ba6bdd462088d899e047c52fc6",
      "348818844afe4484978b5d53211a0e10",
      "747f80e5f57e432687fa987c699ea19c",
      "ac3a5bd596fe4e82a6368152b95ea165",
      "c92bd92ed9774978aaa5ad9794d5e929",
      "cea259a0265d41a8b7cfa797c7e37d20",
      "accd015bbf6741ee9546117d5ebec8de",
      "98a694e49e974209aac0329fdf56fc13",
      "40799ed2524e4b57ae52c4f933648e12",
      "97c9ea6db67e46749ca745f0f52c8543",
      "7527875d11f949598db3f6d9625f0294"
     ]
    },
    "id": "PsPd6bsKwUlL",
    "outputId": "df1e9cb1-2c4d-42d5-dc82-36f2eee8a1f6",
    "pycharm": {
     "name": "#%%\n"
    }
   },
   "execution_count": 8,
   "outputs": []
  },
  {
   "cell_type": "code",
   "source": [
    "test_dataset = ImageDataset(root='data/', test=True)"
   ],
   "metadata": {
    "colab": {
     "base_uri": "https://localhost:8080/",
     "height": 84,
     "referenced_widgets": [
      "d0b3ae11183f43ef9a506a9e711d768a",
      "23a55ae21e5243469695c9a9e0c3ac27",
      "f0350021452f4f948930e5bc6223634d",
      "df3bf2a2eb43483ba059e4519c62dcff",
      "511fed6236aa4aa784f0bd7d92e9066c",
      "c1fdcde738b2487f8485db029a3b8f30",
      "69da09068f61436884b6ab64830deb6d",
      "cfefb0cf016642798b82b9d227c88e90",
      "a531843a4c0646708d19b97612f8d44c",
      "5d14ddfc33614e2683a42ed577a3bfc1",
      "7063f82fb4074a9c8f936f00b563ee11"
     ]
    },
    "id": "s5AQcWRhwbq0",
    "outputId": "74e2b89c-e515-4f8b-e9d0-ff08bf01c047",
    "pycharm": {
     "name": "#%%\n"
    }
   },
   "execution_count": 9,
   "outputs": []
  },
  {
   "cell_type": "code",
   "source": [
    "train_dataset[0]"
   ],
   "metadata": {
    "colab": {
     "base_uri": "https://localhost:8080/"
    },
    "id": "YsJfyq5EVj0M",
    "outputId": "d7727ace-06e9-4c2b-d859-38fda6331a92",
    "pycharm": {
     "name": "#%%\n"
    }
   },
   "execution_count": 10,
   "outputs": [
    {
     "data": {
      "text/plain": "Data(edge_index=[2, 9466], x=[786, 1], edge_attr=[9466, 1], y=[1])"
     },
     "execution_count": 10,
     "metadata": {},
     "output_type": "execute_result"
    }
   ]
  },
  {
   "cell_type": "code",
   "source": [
    "test_dataset[0]"
   ],
   "metadata": {
    "colab": {
     "base_uri": "https://localhost:8080/"
    },
    "id": "fSopvS_RdA9D",
    "outputId": "e2fc822a-455e-4f93-a01b-de196260ffff",
    "pycharm": {
     "name": "#%%\n"
    }
   },
   "execution_count": 11,
   "outputs": [
    {
     "data": {
      "text/plain": "Data(edge_index=[2, 9466], x=[786, 1], edge_attr=[9466, 1], y=[1])"
     },
     "execution_count": 11,
     "metadata": {},
     "output_type": "execute_result"
    }
   ]
  },
  {
   "cell_type": "code",
   "execution_count": 12,
   "outputs": [
    {
     "data": {
      "text/plain": "tensor(7)"
     },
     "execution_count": 12,
     "metadata": {},
     "output_type": "execute_result"
    }
   ],
   "source": [
    "train_dataset[0].y[0]"
   ],
   "metadata": {
    "collapsed": false,
    "pycharm": {
     "name": "#%%\n"
    }
   }
  },
  {
   "cell_type": "code",
   "source": [
    "# !zip -r /content/GraphMNIST.zip /content/data/"
   ],
   "metadata": {
    "colab": {
     "base_uri": "https://localhost:8080/"
    },
    "id": "96gQFyPrdJcs",
    "outputId": "6c583266-4d9b-4488-8282-872dbce4e80c",
    "pycharm": {
     "name": "#%%\n"
    }
   },
   "execution_count": 13,
   "outputs": []
  },
  {
   "cell_type": "code",
   "source": [
    "# from google.colab import files\n",
    "# files.download(\"/content/GraphMNIST.zip\")"
   ],
   "metadata": {
    "colab": {
     "base_uri": "https://localhost:8080/",
     "height": 34
    },
    "id": "KdVow0rIfWvu",
    "outputId": "061d70fc-bf9c-4244-db84-1656faea4062",
    "pycharm": {
     "name": "#%%\n"
    }
   },
   "execution_count": 14,
   "outputs": []
  },
  {
   "cell_type": "code",
   "source": [
    "from torch_geometric.data import DataLoader\n",
    "NUM_GRAPHS_PER_BATCH = 32\n",
    "train_loader = DataLoader(train_dataset, batch_size=NUM_GRAPHS_PER_BATCH, shuffle=True)\n",
    "test_loader = DataLoader(test_dataset, batch_size=NUM_GRAPHS_PER_BATCH, shuffle=True)"
   ],
   "metadata": {
    "colab": {
     "base_uri": "https://localhost:8080/"
    },
    "id": "Af-tEmo5dety",
    "outputId": "07ef73c2-a049-497d-bb29-aca6f11c9aab",
    "pycharm": {
     "name": "#%%\n"
    }
   },
   "execution_count": 15,
   "outputs": [
    {
     "name": "stderr",
     "output_type": "stream",
     "text": [
      "D:\\Anaconda\\envs\\graph-nx\\lib\\site-packages\\torch_geometric\\deprecation.py:12: UserWarning: 'data.DataLoader' is deprecated, use 'loader.DataLoader' instead\n",
      "  warnings.warn(out)\n"
     ]
    }
   ]
  },
  {
   "cell_type": "code",
   "source": [
    "for step, data in enumerate(train_loader):\n",
    "    if (step + 1) == 11:\n",
    "      break\n",
    "    print(f'Step {step + 1}:')\n",
    "    print('=================')\n",
    "    print(f'Number of graphs in the current batch: {data.num_graphs}')\n",
    "    print(data)\n",
    "    print(data.x.shape)\n",
    "    print(data.y.shape)"
   ],
   "metadata": {
    "colab": {
     "base_uri": "https://localhost:8080/"
    },
    "id": "Wa9VAxUNeLR2",
    "outputId": "7a6ac4da-77bd-4f21-b52b-f419a9177b48",
    "pycharm": {
     "name": "#%%\n"
    }
   },
   "execution_count": 16,
   "outputs": [
    {
     "name": "stdout",
     "output_type": "stream",
     "text": [
      "Step 1:\n",
      "=================\n",
      "Number of graphs in the current batch: 32\n",
      "DataBatch(edge_index=[2, 302912], x=[25152, 1], edge_attr=[302912, 1], y=[32], batch=[25152], ptr=[33])\n",
      "torch.Size([25152, 1])\n",
      "torch.Size([32])\n",
      "Step 2:\n",
      "=================\n",
      "Number of graphs in the current batch: 32\n",
      "DataBatch(edge_index=[2, 302912], x=[25152, 1], edge_attr=[302912, 1], y=[32], batch=[25152], ptr=[33])\n",
      "torch.Size([25152, 1])\n",
      "torch.Size([32])\n",
      "Step 3:\n",
      "=================\n",
      "Number of graphs in the current batch: 32\n",
      "DataBatch(edge_index=[2, 302912], x=[25152, 1], edge_attr=[302912, 1], y=[32], batch=[25152], ptr=[33])\n",
      "torch.Size([25152, 1])\n",
      "torch.Size([32])\n",
      "Step 4:\n",
      "=================\n",
      "Number of graphs in the current batch: 32\n",
      "DataBatch(edge_index=[2, 302912], x=[25152, 1], edge_attr=[302912, 1], y=[32], batch=[25152], ptr=[33])\n",
      "torch.Size([25152, 1])\n",
      "torch.Size([32])\n",
      "Step 5:\n",
      "=================\n",
      "Number of graphs in the current batch: 32\n",
      "DataBatch(edge_index=[2, 302912], x=[25152, 1], edge_attr=[302912, 1], y=[32], batch=[25152], ptr=[33])\n",
      "torch.Size([25152, 1])\n",
      "torch.Size([32])\n",
      "Step 6:\n",
      "=================\n",
      "Number of graphs in the current batch: 32\n",
      "DataBatch(edge_index=[2, 302912], x=[25152, 1], edge_attr=[302912, 1], y=[32], batch=[25152], ptr=[33])\n",
      "torch.Size([25152, 1])\n",
      "torch.Size([32])\n",
      "Step 7:\n",
      "=================\n",
      "Number of graphs in the current batch: 32\n",
      "DataBatch(edge_index=[2, 302912], x=[25152, 1], edge_attr=[302912, 1], y=[32], batch=[25152], ptr=[33])\n",
      "torch.Size([25152, 1])\n",
      "torch.Size([32])\n",
      "Step 8:\n",
      "=================\n",
      "Number of graphs in the current batch: 32\n",
      "DataBatch(edge_index=[2, 302912], x=[25152, 1], edge_attr=[302912, 1], y=[32], batch=[25152], ptr=[33])\n",
      "torch.Size([25152, 1])\n",
      "torch.Size([32])\n",
      "Step 9:\n",
      "=================\n",
      "Number of graphs in the current batch: 32\n",
      "DataBatch(edge_index=[2, 302912], x=[25152, 1], edge_attr=[302912, 1], y=[32], batch=[25152], ptr=[33])\n",
      "torch.Size([25152, 1])\n",
      "torch.Size([32])\n",
      "Step 10:\n",
      "=================\n",
      "Number of graphs in the current batch: 32\n",
      "DataBatch(edge_index=[2, 302912], x=[25152, 1], edge_attr=[302912, 1], y=[32], batch=[25152], ptr=[33])\n",
      "torch.Size([25152, 1])\n",
      "torch.Size([32])\n"
     ]
    }
   ]
  },
  {
   "cell_type": "code",
   "source": [
    "from torch.nn import Linear, Flatten\n",
    "import torch.nn.functional as F\n",
    "from torch_geometric.nn import GCNConv\n",
    "from torch_geometric.nn import global_mean_pool\n",
    "\n",
    "class GCN(torch.nn.Module):\n",
    "  def __init__(self, hidden_channels):\n",
    "    super(GCN, self).__init__()\n",
    "    torch.manual_seed(12345)\n",
    "    self.conv1 = GCNConv(train_dataset.num_features, hidden_channels)\n",
    "    self.conv2 = GCNConv(hidden_channels, hidden_channels)\n",
    "    self.conv3 = GCNConv(hidden_channels, hidden_channels)\n",
    "    self.flatten = Flatten()\n",
    "    self.lin = Linear(hidden_channels, 10)\n",
    "  \n",
    "  def forward(self, x, edge_index, batch):\n",
    "    x = self.conv1(x, edge_index)\n",
    "    x = x.relu()\n",
    "    x = self.conv2(x, edge_index)\n",
    "    x = x.relu()\n",
    "    x = self.conv3(x, edge_index)\n",
    "    x = global_mean_pool(x, batch)\n",
    "    x = self.flatten(x)\n",
    "    x = F.dropout(x, p=0.5, training=self.training)\n",
    "    x = self.lin(x)\n",
    "\n",
    "    return x\n",
    "\n",
    "model = GCN(hidden_channels=32)\n",
    "print(model)"
   ],
   "metadata": {
    "colab": {
     "base_uri": "https://localhost:8080/"
    },
    "id": "iESrbLj0eRAX",
    "outputId": "6911bdc6-b5be-4890-eac2-6968b8f7b966",
    "pycharm": {
     "name": "#%%\n"
    }
   },
   "execution_count": 17,
   "outputs": [
    {
     "name": "stdout",
     "output_type": "stream",
     "text": [
      "GCN(\n",
      "  (conv1): GCNConv(1, 32)\n",
      "  (conv2): GCNConv(32, 32)\n",
      "  (conv3): GCNConv(32, 32)\n",
      "  (flatten): Flatten(start_dim=1, end_dim=-1)\n",
      "  (lin): Linear(in_features=32, out_features=10, bias=True)\n",
      ")\n"
     ]
    }
   ]
  },
  {
   "cell_type": "code",
   "execution_count": 18,
   "outputs": [
    {
     "name": "stdout",
     "output_type": "stream",
     "text": [
      "cuda\n"
     ]
    }
   ],
   "source": [
    "device = torch.device('cuda' if torch.cuda.is_available() else 'cpu')\n",
    "print(device)"
   ],
   "metadata": {
    "collapsed": false,
    "pycharm": {
     "name": "#%%\n"
    }
   }
  },
  {
   "cell_type": "code",
   "source": [
    "model = GCN(hidden_channels=32)\n",
    "model.to(device)\n",
    "print(model)\n",
    "optimizer = torch.optim.Adam(model.parameters(), lr=1e-3)\n",
    "criterion = torch.nn.CrossEntropyLoss()\n",
    "\n",
    "def train():\n",
    "    model.train()\n",
    "    model.double()\n",
    "    for data in train_loader:\n",
    "        out = model(data.x.pin_memory().to(device), data.edge_index.pin_memory().to(device), data.batch.pin_memory().to(device))\n",
    "        loss = criterion(out, data.y.pin_memory().to(device))\n",
    "        loss.backward()\n",
    "        optimizer.step()\n",
    "        optimizer.zero_grad()\n",
    "\n",
    "def test(loader):\n",
    "    model.eval()\n",
    "    correct = 0\n",
    "    for data in loader:\n",
    "        out = model(data.x.pin_memory().to(device), data.edge_index.pin_memory().to(device), data.batch.pin_memory().to(device))\n",
    "        pred = out.argmax(dim=1)\n",
    "        correct += int((pred == data.y.pin_memory().to(device)).sum())\n",
    "    return correct / len(loader.dataset)\n",
    "\n",
    "for epoch in range(0, 200):\n",
    "    train()\n",
    "    train_acc = test(train_loader)\n",
    "    test_acc = test(test_loader)\n",
    "    print(f'Epoch: {epoch:03d}, Train Acc: {train_acc:.4f}, Test Acc: {test_acc:.4f}')"
   ],
   "metadata": {
    "colab": {
     "base_uri": "https://localhost:8080/"
    },
    "id": "jE7VtDlbfzdu",
    "outputId": "18ccd0c0-0a49-4fa5-a2e0-c91b700c085b",
    "pycharm": {
     "name": "#%%\n"
    }
   },
   "execution_count": 19,
   "outputs": [
    {
     "name": "stdout",
     "output_type": "stream",
     "text": [
      "GCN(\n",
      "  (conv1): GCNConv(1, 32)\n",
      "  (conv2): GCNConv(32, 32)\n",
      "  (conv3): GCNConv(32, 32)\n",
      "  (flatten): Flatten(start_dim=1, end_dim=-1)\n",
      "  (lin): Linear(in_features=32, out_features=10, bias=True)\n",
      ")\n"
     ]
    },
    {
     "ename": "TypeError",
     "evalue": "can't convert cuda:0 device type tensor to numpy. Use Tensor.cpu() to copy the tensor to host memory first.",
     "output_type": "error",
     "traceback": [
      "\u001B[1;31m---------------------------------------------------------------------------\u001B[0m",
      "\u001B[1;31mTypeError\u001B[0m                                 Traceback (most recent call last)",
      "\u001B[1;32m~\\AppData\\Local\\Temp\\ipykernel_7024\\1741554335.py\u001B[0m in \u001B[0;36m<module>\u001B[1;34m\u001B[0m\n\u001B[0;32m     25\u001B[0m \u001B[1;33m\u001B[0m\u001B[0m\n\u001B[0;32m     26\u001B[0m \u001B[1;32mfor\u001B[0m \u001B[0mepoch\u001B[0m \u001B[1;32min\u001B[0m \u001B[0mrange\u001B[0m\u001B[1;33m(\u001B[0m\u001B[1;36m0\u001B[0m\u001B[1;33m,\u001B[0m \u001B[1;36m200\u001B[0m\u001B[1;33m)\u001B[0m\u001B[1;33m:\u001B[0m\u001B[1;33m\u001B[0m\u001B[1;33m\u001B[0m\u001B[0m\n\u001B[1;32m---> 27\u001B[1;33m     \u001B[0mtrain\u001B[0m\u001B[1;33m(\u001B[0m\u001B[1;33m)\u001B[0m\u001B[1;33m\u001B[0m\u001B[1;33m\u001B[0m\u001B[0m\n\u001B[0m\u001B[0;32m     28\u001B[0m     \u001B[0mtrain_acc\u001B[0m \u001B[1;33m=\u001B[0m \u001B[0mtest\u001B[0m\u001B[1;33m(\u001B[0m\u001B[0mtrain_loader\u001B[0m\u001B[1;33m)\u001B[0m\u001B[1;33m\u001B[0m\u001B[1;33m\u001B[0m\u001B[0m\n\u001B[0;32m     29\u001B[0m     \u001B[0mtest_acc\u001B[0m \u001B[1;33m=\u001B[0m \u001B[0mtest\u001B[0m\u001B[1;33m(\u001B[0m\u001B[0mtest_loader\u001B[0m\u001B[1;33m)\u001B[0m\u001B[1;33m\u001B[0m\u001B[1;33m\u001B[0m\u001B[0m\n",
      "\u001B[1;32m~\\AppData\\Local\\Temp\\ipykernel_7024\\1741554335.py\u001B[0m in \u001B[0;36mtrain\u001B[1;34m()\u001B[0m\n\u001B[0;32m      9\u001B[0m     \u001B[0mmodel\u001B[0m\u001B[1;33m.\u001B[0m\u001B[0mdouble\u001B[0m\u001B[1;33m(\u001B[0m\u001B[1;33m)\u001B[0m\u001B[1;33m\u001B[0m\u001B[1;33m\u001B[0m\u001B[0m\n\u001B[0;32m     10\u001B[0m     \u001B[1;32mfor\u001B[0m \u001B[0mdata\u001B[0m \u001B[1;32min\u001B[0m \u001B[0mtrain_loader\u001B[0m\u001B[1;33m:\u001B[0m\u001B[1;33m\u001B[0m\u001B[1;33m\u001B[0m\u001B[0m\n\u001B[1;32m---> 11\u001B[1;33m         \u001B[0mout\u001B[0m \u001B[1;33m=\u001B[0m \u001B[0mmodel\u001B[0m\u001B[1;33m(\u001B[0m\u001B[0mdata\u001B[0m\u001B[1;33m.\u001B[0m\u001B[0mx\u001B[0m\u001B[1;33m.\u001B[0m\u001B[0mpin_memory\u001B[0m\u001B[1;33m(\u001B[0m\u001B[1;33m)\u001B[0m\u001B[1;33m.\u001B[0m\u001B[0mto\u001B[0m\u001B[1;33m(\u001B[0m\u001B[0mdevice\u001B[0m\u001B[1;33m)\u001B[0m\u001B[1;33m,\u001B[0m \u001B[0mdata\u001B[0m\u001B[1;33m.\u001B[0m\u001B[0medge_index\u001B[0m\u001B[1;33m.\u001B[0m\u001B[0mpin_memory\u001B[0m\u001B[1;33m(\u001B[0m\u001B[1;33m)\u001B[0m\u001B[1;33m.\u001B[0m\u001B[0mto\u001B[0m\u001B[1;33m(\u001B[0m\u001B[0mdevice\u001B[0m\u001B[1;33m)\u001B[0m\u001B[1;33m,\u001B[0m \u001B[0mdata\u001B[0m\u001B[1;33m.\u001B[0m\u001B[0mbatch\u001B[0m\u001B[1;33m.\u001B[0m\u001B[0mpin_memory\u001B[0m\u001B[1;33m(\u001B[0m\u001B[1;33m)\u001B[0m\u001B[1;33m.\u001B[0m\u001B[0mto\u001B[0m\u001B[1;33m(\u001B[0m\u001B[0mdevice\u001B[0m\u001B[1;33m)\u001B[0m\u001B[1;33m)\u001B[0m\u001B[1;33m\u001B[0m\u001B[1;33m\u001B[0m\u001B[0m\n\u001B[0m\u001B[0;32m     12\u001B[0m         \u001B[0mloss\u001B[0m \u001B[1;33m=\u001B[0m \u001B[0mcriterion\u001B[0m\u001B[1;33m(\u001B[0m\u001B[0mout\u001B[0m\u001B[1;33m,\u001B[0m \u001B[0mdata\u001B[0m\u001B[1;33m.\u001B[0m\u001B[0my\u001B[0m\u001B[1;33m.\u001B[0m\u001B[0mpin_memory\u001B[0m\u001B[1;33m(\u001B[0m\u001B[1;33m)\u001B[0m\u001B[1;33m.\u001B[0m\u001B[0mto\u001B[0m\u001B[1;33m(\u001B[0m\u001B[0mdevice\u001B[0m\u001B[1;33m)\u001B[0m\u001B[1;33m)\u001B[0m\u001B[1;33m\u001B[0m\u001B[1;33m\u001B[0m\u001B[0m\n\u001B[0;32m     13\u001B[0m         \u001B[0mloss\u001B[0m\u001B[1;33m.\u001B[0m\u001B[0mbackward\u001B[0m\u001B[1;33m(\u001B[0m\u001B[1;33m)\u001B[0m\u001B[1;33m\u001B[0m\u001B[1;33m\u001B[0m\u001B[0m\n",
      "\u001B[1;32mD:\\Anaconda\\envs\\graph-nx\\lib\\site-packages\\torch\\nn\\modules\\module.py\u001B[0m in \u001B[0;36m_call_impl\u001B[1;34m(self, *input, **kwargs)\u001B[0m\n\u001B[0;32m   1108\u001B[0m         if not (self._backward_hooks or self._forward_hooks or self._forward_pre_hooks or _global_backward_hooks\n\u001B[0;32m   1109\u001B[0m                 or _global_forward_hooks or _global_forward_pre_hooks):\n\u001B[1;32m-> 1110\u001B[1;33m             \u001B[1;32mreturn\u001B[0m \u001B[0mforward_call\u001B[0m\u001B[1;33m(\u001B[0m\u001B[1;33m*\u001B[0m\u001B[0minput\u001B[0m\u001B[1;33m,\u001B[0m \u001B[1;33m**\u001B[0m\u001B[0mkwargs\u001B[0m\u001B[1;33m)\u001B[0m\u001B[1;33m\u001B[0m\u001B[1;33m\u001B[0m\u001B[0m\n\u001B[0m\u001B[0;32m   1111\u001B[0m         \u001B[1;31m# Do not call functions when jit is used\u001B[0m\u001B[1;33m\u001B[0m\u001B[1;33m\u001B[0m\u001B[1;33m\u001B[0m\u001B[0m\n\u001B[0;32m   1112\u001B[0m         \u001B[0mfull_backward_hooks\u001B[0m\u001B[1;33m,\u001B[0m \u001B[0mnon_full_backward_hooks\u001B[0m \u001B[1;33m=\u001B[0m \u001B[1;33m[\u001B[0m\u001B[1;33m]\u001B[0m\u001B[1;33m,\u001B[0m \u001B[1;33m[\u001B[0m\u001B[1;33m]\u001B[0m\u001B[1;33m\u001B[0m\u001B[1;33m\u001B[0m\u001B[0m\n",
      "\u001B[1;32m~\\AppData\\Local\\Temp\\ipykernel_7024\\2158122066.py\u001B[0m in \u001B[0;36mforward\u001B[1;34m(self, x, edge_index, batch)\u001B[0m\n\u001B[0;32m     15\u001B[0m \u001B[1;33m\u001B[0m\u001B[0m\n\u001B[0;32m     16\u001B[0m   \u001B[1;32mdef\u001B[0m \u001B[0mforward\u001B[0m\u001B[1;33m(\u001B[0m\u001B[0mself\u001B[0m\u001B[1;33m,\u001B[0m \u001B[0mx\u001B[0m\u001B[1;33m,\u001B[0m \u001B[0medge_index\u001B[0m\u001B[1;33m,\u001B[0m \u001B[0mbatch\u001B[0m\u001B[1;33m)\u001B[0m\u001B[1;33m:\u001B[0m\u001B[1;33m\u001B[0m\u001B[1;33m\u001B[0m\u001B[0m\n\u001B[1;32m---> 17\u001B[1;33m     \u001B[0mx\u001B[0m \u001B[1;33m=\u001B[0m \u001B[0mnp\u001B[0m\u001B[1;33m.\u001B[0m\u001B[0marray\u001B[0m\u001B[1;33m(\u001B[0m\u001B[0mx\u001B[0m\u001B[1;33m)\u001B[0m\u001B[1;33m\u001B[0m\u001B[1;33m\u001B[0m\u001B[0m\n\u001B[0m\u001B[0;32m     18\u001B[0m     \u001B[0medge_index\u001B[0m \u001B[1;33m=\u001B[0m \u001B[0mnp\u001B[0m\u001B[1;33m.\u001B[0m\u001B[0marray\u001B[0m\u001B[1;33m(\u001B[0m\u001B[0medge_index\u001B[0m\u001B[1;33m)\u001B[0m\u001B[1;33m\u001B[0m\u001B[1;33m\u001B[0m\u001B[0m\n\u001B[0;32m     19\u001B[0m     \u001B[0mx\u001B[0m \u001B[1;33m=\u001B[0m \u001B[0mself\u001B[0m\u001B[1;33m.\u001B[0m\u001B[0mconv1\u001B[0m\u001B[1;33m(\u001B[0m\u001B[0mx\u001B[0m\u001B[1;33m,\u001B[0m \u001B[0medge_index\u001B[0m\u001B[1;33m)\u001B[0m\u001B[1;33m\u001B[0m\u001B[1;33m\u001B[0m\u001B[0m\n",
      "\u001B[1;32mD:\\Anaconda\\envs\\graph-nx\\lib\\site-packages\\torch\\_tensor.py\u001B[0m in \u001B[0;36m__array__\u001B[1;34m(self, dtype)\u001B[0m\n\u001B[0;32m    730\u001B[0m             \u001B[1;32mreturn\u001B[0m \u001B[0mhandle_torch_function\u001B[0m\u001B[1;33m(\u001B[0m\u001B[0mTensor\u001B[0m\u001B[1;33m.\u001B[0m\u001B[0m__array__\u001B[0m\u001B[1;33m,\u001B[0m \u001B[1;33m(\u001B[0m\u001B[0mself\u001B[0m\u001B[1;33m,\u001B[0m\u001B[1;33m)\u001B[0m\u001B[1;33m,\u001B[0m \u001B[0mself\u001B[0m\u001B[1;33m,\u001B[0m \u001B[0mdtype\u001B[0m\u001B[1;33m=\u001B[0m\u001B[0mdtype\u001B[0m\u001B[1;33m)\u001B[0m\u001B[1;33m\u001B[0m\u001B[1;33m\u001B[0m\u001B[0m\n\u001B[0;32m    731\u001B[0m         \u001B[1;32mif\u001B[0m \u001B[0mdtype\u001B[0m \u001B[1;32mis\u001B[0m \u001B[1;32mNone\u001B[0m\u001B[1;33m:\u001B[0m\u001B[1;33m\u001B[0m\u001B[1;33m\u001B[0m\u001B[0m\n\u001B[1;32m--> 732\u001B[1;33m             \u001B[1;32mreturn\u001B[0m \u001B[0mself\u001B[0m\u001B[1;33m.\u001B[0m\u001B[0mnumpy\u001B[0m\u001B[1;33m(\u001B[0m\u001B[1;33m)\u001B[0m\u001B[1;33m\u001B[0m\u001B[1;33m\u001B[0m\u001B[0m\n\u001B[0m\u001B[0;32m    733\u001B[0m         \u001B[1;32melse\u001B[0m\u001B[1;33m:\u001B[0m\u001B[1;33m\u001B[0m\u001B[1;33m\u001B[0m\u001B[0m\n\u001B[0;32m    734\u001B[0m             \u001B[1;32mreturn\u001B[0m \u001B[0mself\u001B[0m\u001B[1;33m.\u001B[0m\u001B[0mnumpy\u001B[0m\u001B[1;33m(\u001B[0m\u001B[1;33m)\u001B[0m\u001B[1;33m.\u001B[0m\u001B[0mastype\u001B[0m\u001B[1;33m(\u001B[0m\u001B[0mdtype\u001B[0m\u001B[1;33m,\u001B[0m \u001B[0mcopy\u001B[0m\u001B[1;33m=\u001B[0m\u001B[1;32mFalse\u001B[0m\u001B[1;33m)\u001B[0m\u001B[1;33m\u001B[0m\u001B[1;33m\u001B[0m\u001B[0m\n",
      "\u001B[1;31mTypeError\u001B[0m: can't convert cuda:0 device type tensor to numpy. Use Tensor.cpu() to copy the tensor to host memory first."
     ]
    }
   ]
  },
  {
   "cell_type": "code",
   "execution_count": null,
   "outputs": [],
   "source": [],
   "metadata": {
    "collapsed": false,
    "pycharm": {
     "name": "#%%\n"
    }
   }
  }
 ]
}