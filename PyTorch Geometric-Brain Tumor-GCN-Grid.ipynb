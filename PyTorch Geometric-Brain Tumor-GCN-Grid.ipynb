{
 "cells": [
  {
   "cell_type": "code",
   "execution_count": 1,
   "metadata": {
    "collapsed": true,
    "pycharm": {
     "name": "#%%\n"
    }
   },
   "outputs": [
    {
     "name": "stdout",
     "output_type": "stream",
     "text": [
      "networkx verion : 1.11\n",
      "Converting Positive Label Images : \n",
      "\n"
     ]
    },
    {
     "data": {
      "text/plain": "  0%|          | 0/154 [00:00<?, ?it/s]",
      "application/vnd.jupyter.widget-view+json": {
       "version_major": 2,
       "version_minor": 0,
       "model_id": "20b469691ed840269e9f75ce3882c9c5"
      }
     },
     "metadata": {},
     "output_type": "display_data"
    },
    {
     "name": "stdout",
     "output_type": "stream",
     "text": [
      "\n",
      "Converting Negative Label Image : \n",
      "\n"
     ]
    },
    {
     "data": {
      "text/plain": "  0%|          | 0/91 [00:00<?, ?it/s]",
      "application/vnd.jupyter.widget-view+json": {
       "version_major": 2,
       "version_minor": 0,
       "model_id": "e99b5949fb214b75b33ee149911265cc"
      }
     },
     "metadata": {},
     "output_type": "display_data"
    }
   ],
   "source": [
    "import os\n",
    "import cv2\n",
    "import glob\n",
    "import numpy as np\n",
    "import networkx as nx\n",
    "print('networkx verion : {}'.format(nx.__version__))\n",
    "from tqdm.auto import tqdm\n",
    "import matplotlib.pyplot as plt\n",
    "os.environ['CUDA_LAUNCH_BLOCKING'] = \"1\"\n",
    "data_yes = glob.glob('.\\\\brain_tumor_dataset\\\\yes\\\\*.jpg')\n",
    "data_no = glob.glob('.\\\\brain_tumor_dataset\\\\no\\\\*.jpg')\n",
    "\n",
    "IMAGE_SIZE = 32\n",
    "images, labels = [], []\n",
    "\n",
    "print('Converting Positive Label Images : \\n')\n",
    "for img_path in tqdm(data_yes, total=len(data_yes)):\n",
    "    img = cv2.imread(img_path)\n",
    "    img = cv2.cvtColor(img, cv2.COLOR_BGR2RGB)\n",
    "    img = cv2.resize(img, (IMAGE_SIZE, IMAGE_SIZE))\n",
    "    images.append(img / 255.)\n",
    "    labels.append(1)\n",
    "\n",
    "print('\\nConverting Negative Label Image : \\n')\n",
    "for img_path in tqdm(data_no, total=len(data_no)):\n",
    "    img = cv2.imread(img_path)\n",
    "    img = cv2.cvtColor(img, cv2.COLOR_BGR2RGB)\n",
    "    img = cv2.resize(img, (IMAGE_SIZE, IMAGE_SIZE))\n",
    "    images.append(img / 255.)\n",
    "    labels.append(0)\n",
    "\n",
    "images = np.asanyarray(images)\n",
    "labels = np.asanyarray(labels)"
   ]
  },
  {
   "cell_type": "code",
   "execution_count": 2,
   "outputs": [],
   "source": [
    "import scipy.sparse as sp\n",
    "from sklearn.neighbors import kneighbors_graph\n",
    "\n",
    "def _grid_coordinates(side):\n",
    "    M = side ** 2\n",
    "    x = np.linspace(0, 1, side, dtype=np.float32)\n",
    "    y = np.linspace(0, 1, side, dtype=np.float32)\n",
    "    xx, yy = np.meshgrid(x, y)\n",
    "    z = np.empty((M, 2), np.float32)\n",
    "    z[:, 0] = xx.reshape(M)\n",
    "    z[:, 1] = yy.reshape(M)\n",
    "    return z\n",
    "\n",
    "def _get_adj_from_data(X, k, **kwargs):\n",
    "    A = kneighbors_graph(X, k, **kwargs).toarray()\n",
    "    A = sp.csr_matrix(np.maximum(A, A.T))\n",
    "    return A\n",
    "\n",
    "def _mnist_grid_graph(k):\n",
    "    X = _grid_coordinates(IMAGE_SIZE)\n",
    "    A = _get_adj_from_data(X, k, mode='connectivity', metric='euclidean', include_self=False)\n",
    "    return A\n",
    "\n",
    "def _flip_random_edges(A, percent):\n",
    "    if not A.shape[0] == A.shape[1]:\n",
    "        raise ValueError('A must be a square matrix.')\n",
    "    dtype = A.dtype\n",
    "    A = sp.lil_matrix(A).astype(np.bool_)\n",
    "    n_elem = A.shape[0] ** 2\n",
    "    n_elem_to_flip = round(percent * n_elem)\n",
    "    unique_idx = np.random.choice(n_elem, replace=False, size=n_elem_to_flip)\n",
    "    row_idx = unique_idx // A.shape[0]\n",
    "    col_idx = unique_idx % A.shape[0]\n",
    "    idxs = np.stack((row_idx, col_idx)).T\n",
    "    for i in idxs:\n",
    "        i = tuple(i)\n",
    "        A[i] = np.logical_not(A[i])\n",
    "    A = A.tocsr().astype(dtype)\n",
    "    A.eliminate_zeros()\n",
    "    return A"
   ],
   "metadata": {
    "collapsed": false,
    "pycharm": {
     "name": "#%%\n"
    }
   }
  },
  {
   "cell_type": "code",
   "execution_count": 3,
   "outputs": [
    {
     "name": "stdout",
     "output_type": "stream",
     "text": [
      "X_train : (220, 32, 32, 3)\n",
      "X_test : (25, 32, 32, 3)\n",
      "y_train : (220,)\n",
      "y_test : (25,)\n"
     ]
    }
   ],
   "source": [
    "from sklearn.model_selection import train_test_split\n",
    "\n",
    "X_train, X_val, y_train, y_val = train_test_split(images, labels, test_size=0.1, random_state=2021)\n",
    "print('X_train : {}'.format(X_train.shape))\n",
    "print('X_test : {}'.format(X_val.shape))\n",
    "print('y_train : {}'.format(y_train.shape))\n",
    "print('y_test : {}'.format(y_val.shape))"
   ],
   "metadata": {
    "collapsed": false,
    "pycharm": {
     "name": "#%%\n"
    }
   }
  },
  {
   "cell_type": "code",
   "execution_count": 4,
   "outputs": [],
   "source": [
    "from tqdm.auto import tqdm\n",
    "import matplotlib.pyplot as plt\n",
    "from matplotlib.lines import Line2D\n",
    "\n",
    "def plot_pixels_images_data(images, labels):\n",
    "    plt.figure(figsize=(15, 15))\n",
    "    for i in tqdm(range(2)):\n",
    "        imgs = images[np.where(labels == i)]\n",
    "        lbls = labels[np.where(labels == i)]\n",
    "        for j in range(8):\n",
    "            plt.subplot(8, 8,i*8+j+1)\n",
    "            plt.xticks([])\n",
    "            plt.yticks([])\n",
    "            plt.grid(False)\n",
    "            plt.imshow(imgs[j], cmap=plt.cm.gray)\n",
    "            plt.xlabel(lbls[j])\n",
    "    plt.tight_layout()\n",
    "    plt.show()"
   ],
   "metadata": {
    "collapsed": false,
    "pycharm": {
     "name": "#%%\n"
    }
   }
  },
  {
   "cell_type": "code",
   "execution_count": 5,
   "outputs": [
    {
     "data": {
      "text/plain": "  0%|          | 0/2 [00:00<?, ?it/s]",
      "application/vnd.jupyter.widget-view+json": {
       "version_major": 2,
       "version_minor": 0,
       "model_id": "3295ca76dd80454bb67f4bd19c60aed0"
      }
     },
     "metadata": {},
     "output_type": "display_data"
    },
    {
     "data": {
      "text/plain": "<Figure size 1080x1080 with 16 Axes>",
      "image/png": "[encoded data removed]"
     },
     "metadata": {},
     "output_type": "display_data"
    }
   ],
   "source": [
    "plot_pixels_images_data(X_train, y_train)"
   ],
   "metadata": {
    "collapsed": false,
    "pycharm": {
     "name": "#%%\n"
    }
   }
  },
  {
   "cell_type": "code",
   "execution_count": 6,
   "outputs": [],
   "source": [
    "def draw_graph_mpl(g, pos=None, ax=None, layout_func=nx.drawing.spring_layout, draw_labels=False):\n",
    "    if ax is None:\n",
    "        fig, ax = plt.subplots(1, 1, figsize=(5, 5))\n",
    "    else:\n",
    "        fig = None\n",
    "    if pos is None:\n",
    "        pos = layout_func(g)\n",
    "    node_color = []\n",
    "    node_labels = {}\n",
    "    shift_pos = {}\n",
    "    for k in g:\n",
    "        node_color.append(g.nodes[k].get('color', 'black'))\n",
    "        node_labels[k] = g.nodes[k].get('label', k)\n",
    "        shift_pos[k] = [pos[k][0], pos[k][1]]\n",
    "\n",
    "    edge_color = []\n",
    "    edge_width = []\n",
    "    for e in g.edges():\n",
    "        edge_color.append(g.edges[e].get('color', 'black'))\n",
    "        edge_width.append(g.edges[e].get('width', 0.5))\n",
    "    nx.draw_networkx_edges(g, pos, edge_color=edge_color, width=edge_width, alpha=0.5, ax=ax)\n",
    "    nx.draw_networkx_nodes(g, pos, node_color=node_color, node_shape='s', node_size=20, alpha=0.75, ax=ax)\n",
    "    if draw_labels:\n",
    "        nx.draw_networkx_labels(g, shift_pos, labels=node_labels, ax=ax)\n",
    "    ax.autoscale()\n",
    "    return fig, ax, pos"
   ],
   "metadata": {
    "collapsed": false,
    "pycharm": {
     "name": "#%%\n"
    }
   }
  },
  {
   "cell_type": "code",
   "execution_count": 7,
   "outputs": [],
   "source": [
    "import os\n",
    "import torch\n",
    "from tqdm.auto import tqdm\n",
    "from torch_geometric.data import Data, Dataset\n",
    "\n",
    "class ImageGridDataset(Dataset):\n",
    "    def __init__(self, root, test=False, transform=None, pre_transform=None, k=8, noise_level=0.0):\n",
    "        self.test = test\n",
    "        self.k = k\n",
    "        self.noise_level = noise_level\n",
    "        super(ImageGridDataset, self).__init__(root, transform, pre_transform)\n",
    "\n",
    "    @property\n",
    "    def raw_file_names(self):\n",
    "        return 'ImagesSuperpixels.pt'\n",
    "\n",
    "    @property\n",
    "    def processed_file_names(self):\n",
    "        if self.test:\n",
    "            return [f'data_test_{i}.pt' for i in range(len(X_val))]\n",
    "        else:\n",
    "            return [f'data_{i}.pt' for i in range(len(X_train))]\n",
    "\n",
    "    def download(self):\n",
    "        pass\n",
    "\n",
    "    def process(self):\n",
    "        if self.test:\n",
    "            for i, j in tqdm(enumerate(X_val), total=len(X_val)):\n",
    "                adj = _mnist_grid_graph(k=self.k)\n",
    "                adj = _flip_random_edges(adj, self.noise_level).astype(np.float32)\n",
    "                adj = adj.nonzero()\n",
    "                adj = np.array(adj)\n",
    "                x = j.flatten().reshape(IMAGE_SIZE*IMAGE_SIZE, -1)\n",
    "                # Create Data Object\n",
    "                data = Data(x=torch.tensor(x, dtype=torch.float),\n",
    "                            edge_index=torch.tensor(adj).t().to(torch.long).reshape(2, -1),\n",
    "                            y=torch.tensor([y_val[i]], dtype=torch.int64))\n",
    "\n",
    "                if self.test:\n",
    "                    torch.save(data, os.path.join(self.processed_dir, f'brain_tumor_data_test_{i}.pt'))\n",
    "                else:\n",
    "                    torch.save(data, os.path.join(self.processed_dir, f'brain_tumor_data_{i}.pt'))\n",
    "        else:\n",
    "            for i, j in tqdm(enumerate(X_train), total=len(X_train)):\n",
    "                adj = _mnist_grid_graph(k=self.k)\n",
    "                adj = _flip_random_edges(adj, self.noise_level).astype(np.float32)\n",
    "                adj = adj.nonzero()\n",
    "                adj = np.array(adj)\n",
    "                x = j.flatten().reshape(IMAGE_SIZE*IMAGE_SIZE, -1)\n",
    "                # Create Data Object\n",
    "                data = Data(x=torch.tensor(x, dtype=torch.float),\n",
    "                            edge_index=torch.tensor(adj).t().to(torch.long).reshape(2, -1),\n",
    "                            y=torch.tensor([y_train[i]], dtype=torch.int64))\n",
    "\n",
    "                if self.test:\n",
    "                    torch.save(data, os.path.join(self.processed_dir, f'brain_tumor_data_test_{i}.pt'))\n",
    "                else:\n",
    "                    torch.save(data, os.path.join(self.processed_dir, f'brain_tumor_data_{i}.pt'))\n",
    "\n",
    "    def len(self):\n",
    "        if self.test:\n",
    "            return len(X_val)\n",
    "        else:\n",
    "            return len(X_train)\n",
    "\n",
    "    def get(self, idx):\n",
    "        if self.test:\n",
    "            data = torch.load(os.path.join(self.processed_dir, f'brain_tumor_data_test_{idx}.pt'))\n",
    "        else:\n",
    "            data = torch.load(os.path.join(self.processed_dir, f'brain_tumor_data_{idx}.pt'))\n",
    "        return data"
   ],
   "metadata": {
    "collapsed": false,
    "pycharm": {
     "name": "#%%\n"
    }
   }
  },
  {
   "cell_type": "code",
   "execution_count": 8,
   "outputs": [
    {
     "name": "stderr",
     "output_type": "stream",
     "text": [
      "Processing...\n"
     ]
    },
    {
     "data": {
      "text/plain": "  0%|          | 0/220 [00:00<?, ?it/s]",
      "application/vnd.jupyter.widget-view+json": {
       "version_major": 2,
       "version_minor": 0,
       "model_id": "b76e6b28a12240bebc9edb8104f4db53"
      }
     },
     "metadata": {},
     "output_type": "display_data"
    },
    {
     "name": "stderr",
     "output_type": "stream",
     "text": [
      "Done!\n"
     ]
    }
   ],
   "source": [
    "train_dataset = ImageGridDataset(root='data/brain_tumor_graph/')"
   ],
   "metadata": {
    "collapsed": false,
    "pycharm": {
     "name": "#%%\n"
    }
   }
  },
  {
   "cell_type": "code",
   "execution_count": 9,
   "outputs": [
    {
     "name": "stderr",
     "output_type": "stream",
     "text": [
      "Processing...\n"
     ]
    },
    {
     "data": {
      "text/plain": "  0%|          | 0/25 [00:00<?, ?it/s]",
      "application/vnd.jupyter.widget-view+json": {
       "version_major": 2,
       "version_minor": 0,
       "model_id": "229102dee1ec4b50bc037a1836abf7a3"
      }
     },
     "metadata": {},
     "output_type": "display_data"
    },
    {
     "name": "stderr",
     "output_type": "stream",
     "text": [
      "Done!\n"
     ]
    }
   ],
   "source": [
    "test_dataset = ImageGridDataset(root='data/brain_tumor_graph/', test=True)"
   ],
   "metadata": {
    "collapsed": false,
    "pycharm": {
     "name": "#%%\n"
    }
   }
  },
  {
   "cell_type": "code",
   "execution_count": 10,
   "outputs": [
    {
     "data": {
      "text/plain": "Data(x=[1024, 3], edge_index=[2, 8332], y=[1])"
     },
     "execution_count": 10,
     "metadata": {},
     "output_type": "execute_result"
    }
   ],
   "source": [
    "test_dataset[1]"
   ],
   "metadata": {
    "collapsed": false,
    "pycharm": {
     "name": "#%%\n"
    }
   }
  },
  {
   "cell_type": "code",
   "execution_count": 11,
   "outputs": [
    {
     "data": {
      "text/plain": "tensor([[0., 0., 0.],\n        [0., 0., 0.],\n        [0., 0., 0.],\n        ...,\n        [0., 0., 0.],\n        [0., 0., 0.],\n        [0., 0., 0.]])"
     },
     "execution_count": 11,
     "metadata": {},
     "output_type": "execute_result"
    }
   ],
   "source": [
    "train_dataset[0].x"
   ],
   "metadata": {
    "collapsed": false,
    "pycharm": {
     "name": "#%%\n"
    }
   }
  },
  {
   "cell_type": "code",
   "execution_count": 12,
   "outputs": [
    {
     "data": {
      "text/plain": "tensor([[   0,  512],\n        [   1,  448],\n        [   0,  512],\n        ...,\n        [ 543, 1021],\n        [ 511, 1023],\n        [ 575, 1022]])"
     },
     "execution_count": 12,
     "metadata": {},
     "output_type": "execute_result"
    }
   ],
   "source": [
    "train_dataset[0].edge_index.t()"
   ],
   "metadata": {
    "collapsed": false,
    "pycharm": {
     "name": "#%%\n"
    }
   }
  },
  {
   "cell_type": "code",
   "execution_count": 13,
   "outputs": [
    {
     "name": "stderr",
     "output_type": "stream",
     "text": [
      "C:\\Users\\firqa\\AppData\\Roaming\\Python\\Python38\\site-packages\\torch_geometric\\deprecation.py:12: UserWarning: 'data.DataLoader' is deprecated, use 'loader.DataLoader' instead\n",
      "  warnings.warn(out)\n"
     ]
    }
   ],
   "source": [
    "from torch_geometric.data import DataLoader\n",
    "NUM_GRAPHS_PER_BATCH = 2\n",
    "train_loader = DataLoader(train_dataset, batch_size=NUM_GRAPHS_PER_BATCH, shuffle=True)\n",
    "test_loader = DataLoader(test_dataset, batch_size=NUM_GRAPHS_PER_BATCH, shuffle=True)"
   ],
   "metadata": {
    "collapsed": false,
    "pycharm": {
     "name": "#%%\n"
    }
   }
  },
  {
   "cell_type": "code",
   "execution_count": 14,
   "outputs": [
    {
     "data": {
      "text/plain": "DataBatch(x=[2048, 3], edge_index=[2, 16664], y=[2], batch=[2048], ptr=[3])"
     },
     "execution_count": 14,
     "metadata": {},
     "output_type": "execute_result"
    }
   ],
   "source": [
    "next(iter(train_loader))"
   ],
   "metadata": {
    "collapsed": false,
    "pycharm": {
     "name": "#%%\n"
    }
   }
  },
  {
   "cell_type": "code",
   "execution_count": 15,
   "outputs": [
    {
     "data": {
      "text/plain": "DataBatch(x=[2048, 3], edge_index=[2, 16664], y=[2], batch=[2048], ptr=[3])"
     },
     "execution_count": 15,
     "metadata": {},
     "output_type": "execute_result"
    }
   ],
   "source": [
    "next(iter(test_loader))"
   ],
   "metadata": {
    "collapsed": false,
    "pycharm": {
     "name": "#%%\n"
    }
   }
  },
  {
   "cell_type": "code",
   "execution_count": 16,
   "outputs": [
    {
     "name": "stdout",
     "output_type": "stream",
     "text": [
      "Step 1:\n",
      "=================\n",
      "Number of graphs in the current batch: 2\n",
      "DataBatch(x=[2048, 3], edge_index=[2, 16664], y=[2], batch=[2048], ptr=[3])\n",
      "torch.Size([2048, 3])\n",
      "torch.Size([2])\n",
      "Step 2:\n",
      "=================\n",
      "Number of graphs in the current batch: 2\n",
      "DataBatch(x=[2048, 3], edge_index=[2, 16664], y=[2], batch=[2048], ptr=[3])\n",
      "torch.Size([2048, 3])\n",
      "torch.Size([2])\n",
      "Step 3:\n",
      "=================\n",
      "Number of graphs in the current batch: 2\n",
      "DataBatch(x=[2048, 3], edge_index=[2, 16664], y=[2], batch=[2048], ptr=[3])\n",
      "torch.Size([2048, 3])\n",
      "torch.Size([2])\n",
      "Step 4:\n",
      "=================\n",
      "Number of graphs in the current batch: 2\n",
      "DataBatch(x=[2048, 3], edge_index=[2, 16664], y=[2], batch=[2048], ptr=[3])\n",
      "torch.Size([2048, 3])\n",
      "torch.Size([2])\n",
      "Step 5:\n",
      "=================\n",
      "Number of graphs in the current batch: 2\n",
      "DataBatch(x=[2048, 3], edge_index=[2, 16664], y=[2], batch=[2048], ptr=[3])\n",
      "torch.Size([2048, 3])\n",
      "torch.Size([2])\n"
     ]
    }
   ],
   "source": [
    "for step, data in enumerate(train_loader):\n",
    "    if (step + 1) == 6:\n",
    "        break\n",
    "    print(f'Step {step + 1}:')\n",
    "    print('=================')\n",
    "    print(f'Number of graphs in the current batch: {data.num_graphs}')\n",
    "    print(data)\n",
    "    print(data.x.shape)\n",
    "    print(data.y.shape)"
   ],
   "metadata": {
    "collapsed": false,
    "pycharm": {
     "name": "#%%\n"
    }
   }
  },
  {
   "cell_type": "code",
   "execution_count": null,
   "outputs": [
    {
     "name": "stdout",
     "output_type": "stream",
     "text": [
      "device : CUDA\n",
      "GCN(\n",
      "  (conv1): GCNConv(3, 64)\n",
      "  (conv2): GCNConv(64, 64)\n",
      "  (conv3): GCNConv(64, 64)\n",
      "  (flatten): Flatten(start_dim=1, end_dim=-1)\n",
      "  (lin): Linear(in_features=64, out_features=10, bias=True)\n",
      ")\n",
      "Epoch: 000, Train Acc: 0.6364, Test Acc: 0.5600\n",
      "Epoch: 001, Train Acc: 0.6864, Test Acc: 0.5600\n",
      "Epoch: 002, Train Acc: 0.6636, Test Acc: 0.5600\n",
      "Epoch: 003, Train Acc: 0.6727, Test Acc: 0.5600\n",
      "Epoch: 004, Train Acc: 0.6909, Test Acc: 0.5600\n",
      "Epoch: 005, Train Acc: 0.5636, Test Acc: 0.6000\n",
      "Epoch: 006, Train Acc: 0.5273, Test Acc: 0.5600\n",
      "Epoch: 007, Train Acc: 0.7500, Test Acc: 0.7600\n",
      "Epoch: 008, Train Acc: 0.7227, Test Acc: 0.7200\n",
      "Epoch: 009, Train Acc: 0.5909, Test Acc: 0.6400\n",
      "Epoch: 010, Train Acc: 0.7182, Test Acc: 0.8000\n",
      "Epoch: 011, Train Acc: 0.7136, Test Acc: 0.6400\n",
      "Epoch: 012, Train Acc: 0.4545, Test Acc: 0.5200\n",
      "Epoch: 013, Train Acc: 0.7273, Test Acc: 0.8000\n",
      "Epoch: 014, Train Acc: 0.7091, Test Acc: 0.7200\n",
      "Epoch: 015, Train Acc: 0.7182, Test Acc: 0.6400\n",
      "Epoch: 016, Train Acc: 0.7091, Test Acc: 0.6800\n",
      "Epoch: 017, Train Acc: 0.6955, Test Acc: 0.8000\n",
      "Epoch: 018, Train Acc: 0.6955, Test Acc: 0.5600\n",
      "Epoch: 019, Train Acc: 0.7045, Test Acc: 0.5600\n",
      "Epoch: 020, Train Acc: 0.6409, Test Acc: 0.5600\n",
      "Epoch: 021, Train Acc: 0.7409, Test Acc: 0.8000\n",
      "Epoch: 022, Train Acc: 0.7500, Test Acc: 0.8000\n",
      "Epoch: 023, Train Acc: 0.7227, Test Acc: 0.6800\n",
      "Epoch: 024, Train Acc: 0.7545, Test Acc: 0.7600\n",
      "Epoch: 025, Train Acc: 0.7273, Test Acc: 0.7200\n",
      "Epoch: 026, Train Acc: 0.7182, Test Acc: 0.6800\n",
      "Epoch: 027, Train Acc: 0.7318, Test Acc: 0.7600\n",
      "Epoch: 028, Train Acc: 0.7091, Test Acc: 0.7200\n",
      "Epoch: 029, Train Acc: 0.7455, Test Acc: 0.8000\n",
      "Epoch: 030, Train Acc: 0.7364, Test Acc: 0.8000\n",
      "Epoch: 031, Train Acc: 0.6955, Test Acc: 0.8400\n",
      "Epoch: 032, Train Acc: 0.7227, Test Acc: 0.6400\n",
      "Epoch: 033, Train Acc: 0.7409, Test Acc: 0.8000\n",
      "Epoch: 034, Train Acc: 0.6409, Test Acc: 0.5600\n",
      "Epoch: 035, Train Acc: 0.7455, Test Acc: 0.7600\n",
      "Epoch: 036, Train Acc: 0.5409, Test Acc: 0.6000\n",
      "Epoch: 037, Train Acc: 0.7409, Test Acc: 0.7600\n",
      "Epoch: 038, Train Acc: 0.7455, Test Acc: 0.6800\n",
      "Epoch: 039, Train Acc: 0.7409, Test Acc: 0.8000\n",
      "Epoch: 040, Train Acc: 0.7000, Test Acc: 0.6000\n",
      "Epoch: 041, Train Acc: 0.7227, Test Acc: 0.8400\n",
      "Epoch: 042, Train Acc: 0.7455, Test Acc: 0.8000\n",
      "Epoch: 043, Train Acc: 0.7227, Test Acc: 0.6800\n",
      "Epoch: 044, Train Acc: 0.7273, Test Acc: 0.6800\n",
      "Epoch: 045, Train Acc: 0.7318, Test Acc: 0.6800\n",
      "Epoch: 046, Train Acc: 0.6455, Test Acc: 0.5600\n",
      "Epoch: 047, Train Acc: 0.7364, Test Acc: 0.8400\n",
      "Epoch: 048, Train Acc: 0.7364, Test Acc: 0.6800\n",
      "Epoch: 049, Train Acc: 0.6955, Test Acc: 0.5600\n",
      "Epoch: 050, Train Acc: 0.7636, Test Acc: 0.7600\n",
      "Epoch: 051, Train Acc: 0.7364, Test Acc: 0.6800\n",
      "Epoch: 052, Train Acc: 0.6864, Test Acc: 0.5600\n",
      "Epoch: 053, Train Acc: 0.7409, Test Acc: 0.7600\n",
      "Epoch: 054, Train Acc: 0.7455, Test Acc: 0.8000\n",
      "Epoch: 055, Train Acc: 0.6091, Test Acc: 0.6800\n",
      "Epoch: 056, Train Acc: 0.7409, Test Acc: 0.7200\n",
      "Epoch: 057, Train Acc: 0.6955, Test Acc: 0.5600\n",
      "Epoch: 058, Train Acc: 0.7000, Test Acc: 0.6000\n",
      "Epoch: 059, Train Acc: 0.7409, Test Acc: 0.6800\n",
      "Epoch: 060, Train Acc: 0.7318, Test Acc: 0.8400\n",
      "Epoch: 061, Train Acc: 0.6955, Test Acc: 0.8400\n",
      "Epoch: 062, Train Acc: 0.6545, Test Acc: 0.5600\n",
      "Epoch: 063, Train Acc: 0.7409, Test Acc: 0.7600\n",
      "Epoch: 064, Train Acc: 0.7500, Test Acc: 0.7600\n",
      "Epoch: 065, Train Acc: 0.7273, Test Acc: 0.6800\n",
      "Epoch: 066, Train Acc: 0.7000, Test Acc: 0.6000\n",
      "Epoch: 067, Train Acc: 0.7273, Test Acc: 0.7200\n",
      "Epoch: 068, Train Acc: 0.7318, Test Acc: 0.6800\n",
      "Epoch: 069, Train Acc: 0.7409, Test Acc: 0.6800\n",
      "Epoch: 070, Train Acc: 0.7227, Test Acc: 0.8400\n",
      "Epoch: 071, Train Acc: 0.7682, Test Acc: 0.7600\n",
      "Epoch: 072, Train Acc: 0.7545, Test Acc: 0.7600\n",
      "Epoch: 073, Train Acc: 0.7000, Test Acc: 0.5600\n",
      "Epoch: 074, Train Acc: 0.6955, Test Acc: 0.6000\n",
      "Epoch: 075, Train Acc: 0.6727, Test Acc: 0.8000\n",
      "Epoch: 076, Train Acc: 0.7409, Test Acc: 0.7200\n",
      "Epoch: 077, Train Acc: 0.7455, Test Acc: 0.7200\n",
      "Epoch: 078, Train Acc: 0.7136, Test Acc: 0.6400\n",
      "Epoch: 079, Train Acc: 0.7364, Test Acc: 0.7200\n",
      "Epoch: 080, Train Acc: 0.6364, Test Acc: 0.5600\n",
      "Epoch: 081, Train Acc: 0.7636, Test Acc: 0.7600\n",
      "Epoch: 082, Train Acc: 0.7500, Test Acc: 0.7600\n",
      "Epoch: 083, Train Acc: 0.7545, Test Acc: 0.7600\n",
      "Epoch: 084, Train Acc: 0.7500, Test Acc: 0.7600\n",
      "Epoch: 085, Train Acc: 0.7500, Test Acc: 0.7600\n",
      "Epoch: 086, Train Acc: 0.7045, Test Acc: 0.6000\n",
      "Epoch: 087, Train Acc: 0.7045, Test Acc: 0.6000\n",
      "Epoch: 088, Train Acc: 0.6818, Test Acc: 0.5600\n",
      "Epoch: 089, Train Acc: 0.7409, Test Acc: 0.7200\n",
      "Epoch: 090, Train Acc: 0.7318, Test Acc: 0.6800\n",
      "Epoch: 091, Train Acc: 0.7136, Test Acc: 0.8400\n",
      "Epoch: 092, Train Acc: 0.7409, Test Acc: 0.7200\n",
      "Epoch: 093, Train Acc: 0.7591, Test Acc: 0.7600\n",
      "Epoch: 094, Train Acc: 0.7455, Test Acc: 0.7200\n",
      "Epoch: 095, Train Acc: 0.7500, Test Acc: 0.7200\n",
      "Epoch: 096, Train Acc: 0.7045, Test Acc: 0.6000\n",
      "Epoch: 097, Train Acc: 0.7045, Test Acc: 0.5600\n",
      "Epoch: 098, Train Acc: 0.7273, Test Acc: 0.8400\n",
      "Epoch: 099, Train Acc: 0.7591, Test Acc: 0.7600\n",
      "Epoch: 100, Train Acc: 0.6818, Test Acc: 0.5600\n",
      "Epoch: 101, Train Acc: 0.7182, Test Acc: 0.8400\n",
      "Epoch: 102, Train Acc: 0.7000, Test Acc: 0.6000\n",
      "Epoch: 103, Train Acc: 0.6500, Test Acc: 0.6800\n",
      "Epoch: 104, Train Acc: 0.7045, Test Acc: 0.8400\n",
      "Epoch: 105, Train Acc: 0.7273, Test Acc: 0.8400\n",
      "Epoch: 106, Train Acc: 0.7500, Test Acc: 0.6800\n",
      "Epoch: 107, Train Acc: 0.7455, Test Acc: 0.7200\n",
      "Epoch: 108, Train Acc: 0.7591, Test Acc: 0.8000\n",
      "Epoch: 109, Train Acc: 0.7500, Test Acc: 0.7600\n",
      "Epoch: 110, Train Acc: 0.7364, Test Acc: 0.6800\n",
      "Epoch: 111, Train Acc: 0.7500, Test Acc: 0.7600\n",
      "Epoch: 112, Train Acc: 0.7545, Test Acc: 0.7200\n",
      "Epoch: 113, Train Acc: 0.7500, Test Acc: 0.7600\n",
      "Epoch: 114, Train Acc: 0.7682, Test Acc: 0.8000\n",
      "Epoch: 115, Train Acc: 0.7636, Test Acc: 0.8000\n",
      "Epoch: 116, Train Acc: 0.7273, Test Acc: 0.6000\n",
      "Epoch: 117, Train Acc: 0.7455, Test Acc: 0.6800\n",
      "Epoch: 118, Train Acc: 0.6591, Test Acc: 0.8000\n",
      "Epoch: 119, Train Acc: 0.7545, Test Acc: 0.8400\n",
      "Epoch: 120, Train Acc: 0.7045, Test Acc: 0.8800\n",
      "Epoch: 121, Train Acc: 0.7455, Test Acc: 0.7200\n",
      "Epoch: 122, Train Acc: 0.7091, Test Acc: 0.6000\n",
      "Epoch: 123, Train Acc: 0.7409, Test Acc: 0.6800\n",
      "Epoch: 124, Train Acc: 0.7409, Test Acc: 0.6800\n",
      "Epoch: 125, Train Acc: 0.7500, Test Acc: 0.6800\n",
      "Epoch: 126, Train Acc: 0.7091, Test Acc: 0.8400\n",
      "Epoch: 127, Train Acc: 0.7318, Test Acc: 0.8400\n",
      "Epoch: 128, Train Acc: 0.7500, Test Acc: 0.7600\n",
      "Epoch: 129, Train Acc: 0.7500, Test Acc: 0.7200\n",
      "Epoch: 130, Train Acc: 0.7364, Test Acc: 0.6800\n",
      "Epoch: 131, Train Acc: 0.7455, Test Acc: 0.7200\n",
      "Epoch: 132, Train Acc: 0.7500, Test Acc: 0.6800\n",
      "Epoch: 133, Train Acc: 0.7045, Test Acc: 0.6000\n",
      "Epoch: 134, Train Acc: 0.7545, Test Acc: 0.8400\n",
      "Epoch: 135, Train Acc: 0.6500, Test Acc: 0.5600\n",
      "Epoch: 136, Train Acc: 0.7545, Test Acc: 0.7200\n",
      "Epoch: 137, Train Acc: 0.7091, Test Acc: 0.6000\n",
      "Epoch: 138, Train Acc: 0.7045, Test Acc: 0.5600\n",
      "Epoch: 139, Train Acc: 0.7364, Test Acc: 0.7200\n",
      "Epoch: 140, Train Acc: 0.7500, Test Acc: 0.7200\n",
      "Epoch: 141, Train Acc: 0.6818, Test Acc: 0.8400\n",
      "Epoch: 142, Train Acc: 0.7045, Test Acc: 0.8400\n",
      "Epoch: 143, Train Acc: 0.7455, Test Acc: 0.6800\n",
      "Epoch: 144, Train Acc: 0.7500, Test Acc: 0.6800\n",
      "Epoch: 145, Train Acc: 0.6545, Test Acc: 0.5600\n",
      "Epoch: 146, Train Acc: 0.7045, Test Acc: 0.6000\n",
      "Epoch: 147, Train Acc: 0.7500, Test Acc: 0.7200\n",
      "Epoch: 148, Train Acc: 0.7273, Test Acc: 0.8400\n",
      "Epoch: 149, Train Acc: 0.7682, Test Acc: 0.7200\n",
      "Epoch: 150, Train Acc: 0.7364, Test Acc: 0.8400\n",
      "Epoch: 151, Train Acc: 0.7409, Test Acc: 0.8400\n",
      "Epoch: 152, Train Acc: 0.7318, Test Acc: 0.8400\n",
      "Epoch: 153, Train Acc: 0.7273, Test Acc: 0.6000\n",
      "Epoch: 154, Train Acc: 0.7455, Test Acc: 0.6800\n",
      "Epoch: 155, Train Acc: 0.7136, Test Acc: 0.6000\n",
      "Epoch: 156, Train Acc: 0.7545, Test Acc: 0.7600\n",
      "Epoch: 157, Train Acc: 0.7500, Test Acc: 0.7200\n",
      "Epoch: 158, Train Acc: 0.7591, Test Acc: 0.7200\n",
      "Epoch: 159, Train Acc: 0.7591, Test Acc: 0.7600\n",
      "Epoch: 160, Train Acc: 0.7636, Test Acc: 0.8400\n",
      "Epoch: 161, Train Acc: 0.6682, Test Acc: 0.7600\n",
      "Epoch: 162, Train Acc: 0.7545, Test Acc: 0.8400\n",
      "Epoch: 163, Train Acc: 0.6545, Test Acc: 0.7200\n",
      "Epoch: 164, Train Acc: 0.7500, Test Acc: 0.6800\n",
      "Epoch: 165, Train Acc: 0.7182, Test Acc: 0.6000\n",
      "Epoch: 166, Train Acc: 0.7545, Test Acc: 0.7600\n",
      "Epoch: 167, Train Acc: 0.6409, Test Acc: 0.6400\n",
      "Epoch: 168, Train Acc: 0.7455, Test Acc: 0.7200\n",
      "Epoch: 169, Train Acc: 0.7318, Test Acc: 0.8400\n",
      "Epoch: 170, Train Acc: 0.7318, Test Acc: 0.8400\n",
      "Epoch: 171, Train Acc: 0.7545, Test Acc: 0.7200\n",
      "Epoch: 172, Train Acc: 0.7273, Test Acc: 0.6400\n",
      "Epoch: 173, Train Acc: 0.7636, Test Acc: 0.7200\n",
      "Epoch: 174, Train Acc: 0.7409, Test Acc: 0.6800\n",
      "Epoch: 175, Train Acc: 0.7591, Test Acc: 0.7200\n",
      "Epoch: 176, Train Acc: 0.7500, Test Acc: 0.7200\n",
      "Epoch: 177, Train Acc: 0.7364, Test Acc: 0.7200\n",
      "Epoch: 178, Train Acc: 0.7409, Test Acc: 0.8400\n",
      "Epoch: 179, Train Acc: 0.6591, Test Acc: 0.5600\n",
      "Epoch: 180, Train Acc: 0.7591, Test Acc: 0.7600\n",
      "Epoch: 181, Train Acc: 0.7500, Test Acc: 0.7200\n",
      "Epoch: 182, Train Acc: 0.7455, Test Acc: 0.7200\n",
      "Epoch: 183, Train Acc: 0.7227, Test Acc: 0.6800\n",
      "Epoch: 184, Train Acc: 0.7545, Test Acc: 0.7200\n",
      "Epoch: 185, Train Acc: 0.7318, Test Acc: 0.7600\n",
      "Epoch: 186, Train Acc: 0.7545, Test Acc: 0.6800\n",
      "Epoch: 187, Train Acc: 0.7545, Test Acc: 0.7200\n",
      "Epoch: 188, Train Acc: 0.7500, Test Acc: 0.7200\n",
      "Epoch: 189, Train Acc: 0.7318, Test Acc: 0.6400\n",
      "Epoch: 190, Train Acc: 0.7455, Test Acc: 0.7200\n",
      "Epoch: 191, Train Acc: 0.7591, Test Acc: 0.8400\n",
      "Epoch: 192, Train Acc: 0.7500, Test Acc: 0.6800\n",
      "Epoch: 193, Train Acc: 0.6409, Test Acc: 0.6400\n",
      "Epoch: 194, Train Acc: 0.6500, Test Acc: 0.5600\n",
      "Epoch: 195, Train Acc: 0.7318, Test Acc: 0.6400\n",
      "Epoch: 196, Train Acc: 0.7318, Test Acc: 0.6400\n",
      "Epoch: 197, Train Acc: 0.6545, Test Acc: 0.6800\n",
      "Epoch: 198, Train Acc: 0.7591, Test Acc: 0.8400\n",
      "Epoch: 199, Train Acc: 0.7500, Test Acc: 0.7600\n",
      "Epoch: 200, Train Acc: 0.7591, Test Acc: 0.8400\n",
      "Epoch: 201, Train Acc: 0.7545, Test Acc: 0.7200\n",
      "Epoch: 202, Train Acc: 0.7591, Test Acc: 0.6800\n",
      "Epoch: 203, Train Acc: 0.6682, Test Acc: 0.8000\n",
      "Epoch: 204, Train Acc: 0.7045, Test Acc: 0.6000\n",
      "Epoch: 205, Train Acc: 0.7545, Test Acc: 0.7200\n",
      "Epoch: 206, Train Acc: 0.7591, Test Acc: 0.7200\n",
      "Epoch: 207, Train Acc: 0.7409, Test Acc: 0.7200\n",
      "Epoch: 208, Train Acc: 0.7227, Test Acc: 0.6400\n",
      "Epoch: 209, Train Acc: 0.7318, Test Acc: 0.6400\n",
      "Epoch: 210, Train Acc: 0.7500, Test Acc: 0.7200\n",
      "Epoch: 211, Train Acc: 0.7591, Test Acc: 0.8400\n",
      "Epoch: 212, Train Acc: 0.7591, Test Acc: 0.7200\n",
      "Epoch: 213, Train Acc: 0.7273, Test Acc: 0.8400\n",
      "Epoch: 214, Train Acc: 0.7545, Test Acc: 0.7200\n",
      "Epoch: 215, Train Acc: 0.7591, Test Acc: 0.6800\n",
      "Epoch: 216, Train Acc: 0.7545, Test Acc: 0.8400\n",
      "Epoch: 217, Train Acc: 0.7500, Test Acc: 0.7200\n",
      "Epoch: 218, Train Acc: 0.7545, Test Acc: 0.7200\n",
      "Epoch: 219, Train Acc: 0.7500, Test Acc: 0.7200\n",
      "Epoch: 220, Train Acc: 0.7500, Test Acc: 0.7200\n",
      "Epoch: 221, Train Acc: 0.7500, Test Acc: 0.7200\n",
      "Epoch: 222, Train Acc: 0.7273, Test Acc: 0.6400\n",
      "Epoch: 223, Train Acc: 0.6500, Test Acc: 0.8000\n",
      "Epoch: 224, Train Acc: 0.7455, Test Acc: 0.7200\n",
      "Epoch: 225, Train Acc: 0.7318, Test Acc: 0.6400\n",
      "Epoch: 226, Train Acc: 0.7318, Test Acc: 0.8400\n",
      "Epoch: 227, Train Acc: 0.7591, Test Acc: 0.7600\n",
      "Epoch: 228, Train Acc: 0.7455, Test Acc: 0.8400\n",
      "Epoch: 229, Train Acc: 0.7091, Test Acc: 0.8000\n",
      "Epoch: 230, Train Acc: 0.7455, Test Acc: 0.7600\n",
      "Epoch: 231, Train Acc: 0.7545, Test Acc: 0.7200\n",
      "Epoch: 232, Train Acc: 0.7318, Test Acc: 0.8400\n",
      "Epoch: 233, Train Acc: 0.7545, Test Acc: 0.7200\n",
      "Epoch: 234, Train Acc: 0.7545, Test Acc: 0.8400\n",
      "Epoch: 235, Train Acc: 0.7636, Test Acc: 0.7200\n",
      "Epoch: 236, Train Acc: 0.7636, Test Acc: 0.7200\n",
      "Epoch: 237, Train Acc: 0.6636, Test Acc: 0.8000\n",
      "Epoch: 238, Train Acc: 0.7455, Test Acc: 0.6400\n",
      "Epoch: 239, Train Acc: 0.7591, Test Acc: 0.7600\n",
      "Epoch: 240, Train Acc: 0.7545, Test Acc: 0.7200\n",
      "Epoch: 241, Train Acc: 0.7000, Test Acc: 0.8400\n",
      "Epoch: 242, Train Acc: 0.7545, Test Acc: 0.6800\n",
      "Epoch: 243, Train Acc: 0.7545, Test Acc: 0.6800\n",
      "Epoch: 244, Train Acc: 0.7409, Test Acc: 0.7200\n",
      "Epoch: 245, Train Acc: 0.7273, Test Acc: 0.6400\n",
      "Epoch: 246, Train Acc: 0.7045, Test Acc: 0.8400\n",
      "Epoch: 247, Train Acc: 0.7636, Test Acc: 0.7200\n"
     ]
    }
   ],
   "source": [
    "import torch\n",
    "import torch.nn.functional as F\n",
    "from torch.nn import Linear, Flatten\n",
    "from torch.optim.lr_scheduler import ReduceLROnPlateau\n",
    "from torch_geometric.nn import GCNConv, TopKPooling, global_mean_pool\n",
    "from torch_geometric.nn import global_mean_pool as gap, global_max_pool as gmp\n",
    "embedding_size = 64\n",
    "class GCN(torch.nn.Module):\n",
    "    def __init__(self, hidden_channels):\n",
    "        super(GCN, self).__init__()\n",
    "        self.conv1 = GCNConv(train_dataset.num_features, hidden_channels)\n",
    "        self.conv2 = GCNConv(hidden_channels, hidden_channels)\n",
    "        self.conv3 = GCNConv(hidden_channels, hidden_channels)\n",
    "        self.conv4 = GCNConv(hidden_channels, hidden_channels)\n",
    "        self.conv5 = GCNConv(hidden_channels, hidden_channels)\n",
    "        self.flatten = Flatten()\n",
    "        self.lin = Linear(hidden_channels, 10)\n",
    "\n",
    "    def forward(self, x, edge_index, batch):\n",
    "        x = self.conv1(x, edge_index)\n",
    "        x = x.relu()\n",
    "        x = self.conv2(x, edge_index)\n",
    "        x = x.relu()\n",
    "        x = self.conv3(x, edge_index)\n",
    "        x = x.relu()\n",
    "        x = self.conv4(x, edge_index)\n",
    "        x = x.relu()\n",
    "        x = self.conv5(x, edge_index)\n",
    "        x = global_mean_pool(x, batch)\n",
    "        x = self.flatten(x)\n",
    "        x = F.dropout(x, p=0.5, training=self.training)\n",
    "\n",
    "        return F.log_softmax(self.lin(x), dim=1)\n",
    "\n",
    "device = torch.device('cuda' if torch.cuda.is_available() else 'cpu')\n",
    "print('device :', str(device).upper())\n",
    "model = GCN(hidden_channels=embedding_size).to(device)\n",
    "print(model)\n",
    "optimizer = torch.optim.Adam(model.parameters(), lr=0.005, weight_decay=5e-4)\n",
    "scheduler = ReduceLROnPlateau(optimizer, 'min', patience = 25)\n",
    "criterion = torch.nn.CrossEntropyLoss()\n",
    "\n",
    "def train():\n",
    "    model.train()\n",
    "    for data in train_loader:\n",
    "        out = model(data.x.pin_memory().to(device), data.edge_index.pin_memory().to(device), data.batch.pin_memory().to(device))\n",
    "        loss = criterion(out, data.y.pin_memory().to(device))\n",
    "        loss.backward()\n",
    "        optimizer.step()\n",
    "        optimizer.zero_grad()\n",
    "\n",
    "def test(loader):\n",
    "    model.eval()\n",
    "    correct = 0\n",
    "    for data in loader:\n",
    "        out = model(data.x.pin_memory().to(device), data.edge_index.pin_memory().to(device), data.batch.pin_memory().to(device))\n",
    "        pred = out.argmax(dim=1)\n",
    "        correct += int((pred == data.y.pin_memory().to(device)).sum())\n",
    "    return correct / len(loader.dataset)\n",
    "\n",
    "for epoch in range(0, 300):\n",
    "    train()\n",
    "    train_acc = test(train_loader)\n",
    "    test_acc = test(test_loader)\n",
    "    print(f'Epoch: {epoch:03d}, Train Acc: {train_acc:.4f}, Test Acc: {test_acc:.4f}')"
   ],
   "metadata": {
    "collapsed": false,
    "pycharm": {
     "name": "#%%\n",
     "is_executing": true
    }
   }
  },
  {
   "cell_type": "code",
   "execution_count": null,
   "outputs": [],
   "source": [],
   "metadata": {
    "collapsed": false,
    "pycharm": {
     "name": "#%%\n"
    }
   }
  }
 ],
 "metadata": {
  "kernelspec": {
   "name": "pygeo",
   "language": "python",
   "display_name": "pygeo"
  },
  "language_info": {
   "codemirror_mode": {
    "name": "ipython",
    "version": 2
   },
   "file_extension": ".py",
   "mimetype": "text/x-python",
   "name": "python",
   "nbconvert_exporter": "python",
   "pygments_lexer": "ipython2",
   "version": "2.7.6"
  }
 },
 "nbformat": 4,
 "nbformat_minor": 0
}